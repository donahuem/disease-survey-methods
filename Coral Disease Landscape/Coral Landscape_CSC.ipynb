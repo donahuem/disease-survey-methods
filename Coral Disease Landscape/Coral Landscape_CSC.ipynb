{
 "metadata": {
  "name": "",
  "signature": "sha256:25823c32c80c944f5f6af2b6275d55ff02115fb85a7c9a08711268fe6870522a"
 },
 "nbformat": 3,
 "nbformat_minor": 0,
 "worksheets": [
  {
   "cells": [
    {
     "cell_type": "raw",
     "metadata": {},
     "source": [
      "Data structure for coral sampling landscapes:\n",
      "\n",
      "Each landscape is an object of Landscape Class that has a set of properties, including\n",
      "    Length (defined as a default size)\n",
      "    Width (defines as a default width)\n",
      "    Number of Colonies\n",
      "    Clumpiness of Distribution\n",
      "    Characteristics of Size Frequency Distribution (e.g., two parameters of a lognormal distrib)\n",
      "    2 Methods:\n",
      "        GenerateColonies, which generates a list of objects of type Colony\n",
      "        BandTransect, which samples using a standard band transect method and returns # sampled colonies and # infected colonies\n",
      "    EstTransect, which returns area alpha sampled for colonies, #colonies in alpha, area A sampled for disease, #disease colonies in A\n",
      "    \n",
      "Each coral colony is an object of type Coral that has a set of properties, including\n",
      "    Size\n",
      "    Disease State\n",
      "    X location in landscape\n",
      "    Y location in landscape\n",
      "\n",
      "- Switch to lognormal\n",
      "- in Landscape class \n",
      "def gencol\n",
      "from 1-ncol\n",
      "choose random size (from SFDa and b), random disease with disease probablity and coordinate\n",
      "call coral (size, disease, lat, long)\n",
      "\n",
      "Random coordinates:\n",
      "landscape.maxX\n",
      "landscape.maxY\n",
      "landscape.ncol\n",
      "\n",
      "to place corals in landscape by size (large first)\n",
      "generate a list of sizes (rnorm(SFDa,b)\n",
      "Rank order and # colonies based on size\n",
      "then place down in landscape in that order\n",
      "\n",
      "\n",
      "    "
     ]
    },
    {
     "cell_type": "code",
     "collapsed": false,
     "input": [
      "import math as math\n",
      "import numpy as np\n",
      "import scipy as sp\n",
      "import matplotlib as mpl\n",
      "import matplotlib.pyplot as plt\n"
     ],
     "language": "python",
     "metadata": {},
     "outputs": [],
     "prompt_number": 5
    },
    {
     "cell_type": "code",
     "collapsed": false,
     "input": [
      "class Coral(object):\n",
      "    \"\"\"A class that makes corals with a size, disease state, and location\"\"\"\n",
      "    def __init__(self, diam, dis, x, y):\n",
      "        self.diam = diam\n",
      "        self.area = sp.pi*(diam/2.)**2.\n",
      "        self.dis = dis\n",
      "        self.x = x\n",
      "        self.y = y\n",
      "    \n",
      "    def is_dis(self):\n",
      "        if self.dis==1:\n",
      "            print \"Diseased\"\n",
      "        else:\n",
      "            print \"Healthy\"\n",
      "            \n",
      "c01 = Coral(14,0,3.21,4.445) #I removed 1, because __init__() only takes 5 arguments"
     ],
     "language": "python",
     "metadata": {},
     "outputs": [],
     "prompt_number": 6
    },
    {
     "cell_type": "code",
     "collapsed": false,
     "input": [
      "class Landscape(object):\n",
      "    \"\"\"Inputs/Arguments: (Number of Colonies, SFD parameter 1, SFD parameter 2, Clumpiness Parameter)\"\"\"\n",
      "    \"\"\"A class that creates landscapes characterized by number of colonies N, size freq distribution, and clumpiness\"\"\"\n",
      "    \"\"\"Assume that the log(coral.area)~normal(mu,sigma), so that diam = 2*math.sqrt(math.exp(lognormal(mu.sigma))/math.pi)\"\"\"\n",
      "    \"\"\"Assign a fixed length and width for the landscape\"\"\"\n",
      "    \n",
      "    reef = [[0, 0], [0, 50], [10,50], [10,0]]\n",
      "\n",
      "    def __init__(self,nCol, SFDmu, SFDsig, prevalence, clump):\n",
      "        self.nCol = nCol\n",
      "        self.SFDmu = SFDmu\n",
      "        self.SFDsig = SFDsig\n",
      "        self.clump = clump\n",
      "        self.prevalence = prevalence\n",
      "        self.corals = []\n",
      "    \n",
      "    def generateColonies(self):\n",
      "        for i in range(0,self.nCol):\n",
      "            diam = 2*math.sqrt(math.exp(np.random.lognormal(self.SFDmu,self.SFDsig))/math.pi)\n",
      "            prev = np.random.binomial(1,self.prevalence)\n",
      "            x = np.random.random(1)*50   # total landscape is 50m in x\n",
      "            y = np.random.random(1)*10  # total landscape is 10m in y\n",
      "            self.corals.append(Coral(diam,prev,x,y))\n",
      "\n",
      "    def bandTransect(self,st_pt,length,width):\n",
      "        xmin=st_pt[0]\n",
      "        xmax=st_pt[0]+length\n",
      "        ymin=st_pt[1]-width/2\n",
      "        ymax=st_pt[1]+width/2\n",
      "        ctcols=0\n",
      "        ctdis=0\n",
      "        for i in range(0,self.nCol):\n",
      "            ctcols+=(xmin<=self.corals[i].x<=xmax)& (ymin<=self.corals[i].y<=ymax)\n",
      "            ctdis+=(xmin<=self.corals[i].x<=xmax)& (ymin<=self.corals[i].y<=ymax)& self.corals[i].dis==1\n",
      "        self.band_nCol=ctcols\n",
      "        self.band_disCol=ctdis\n",
      "        \n",
      "    def estTransect(self,st_pt,cc_length,cc_width,dc_length,dc_width):\n",
      "        st_pt = st_pt\n",
      "        cc_length = cc_length\n",
      "        cc_width = cc_width\n",
      "        cc_xmin=st_pt[0]\n",
      "        cc_xmax=st_pt[0]+cc_length\n",
      "        cc_ymin=st_pt[1]-cc_width/2.0\n",
      "        cc_ymax=st_pt[1]+cc_width/2.0\n",
      "        dc_xmin=st_pt[0]\n",
      "        dc_xmax=st_pt[0]+dc_length\n",
      "        dc_ymin=st_pt[1]-dc_width/2.0\n",
      "        dc_ymax=st_pt[1]+dc_width/2.0\n",
      "        \n",
      "        ctcols=0\n",
      "        ctdis=0\n",
      "        for i in range(0,self.nCol):\n",
      "            ctcols+=(cc_xmin<=self.corals[i].x<=cc_xmax)& (cc_ymin<=self.corals[i].y<=cc_ymax)\n",
      "            ctdis+=(dc_xmin<=self.corals[i].x<=dc_xmax)& (dc_ymin<=self.corals[i].y<=dc_ymax)& self.corals[i].dis==1\n",
      "        self.estband_nCol=ctcols\n",
      "        self.estband_disCol=ctdis    \n",
      "    \n",
      "        \n",
      "L01 = Landscape(1000,.18,.2,0.2,0)\n",
      "L01.generateColonies()\n",
      "L01.bandTransect([5,5],25,2)\n",
      "L01.estTransect([5,5],10,1,25,4)\n",
      "\n",
      "print L01.band_nCol\n",
      "print L01.band_disCol\n",
      "\n",
      "print L01.estband_nCol\n",
      "print L01.estband_disCol\n",
      "\n",
      "L01x = []\n",
      "L01y = []\n",
      "L01area = []\n",
      "L01dis = []\n",
      "for i in range(0,100):\n",
      "    L01x.append(L01.corals[i].x)\n",
      "    L01y.append(L01.corals[i].y)\n",
      "    L01area.append(L01.corals[i].area*10)\n",
      "    L01dis.append(L01.corals[i].dis+1)\n",
      "\n",
      "plt.scatter(L01x,L01y,s=L01area,c = L01dis)\n"
     ],
     "language": "python",
     "metadata": {},
     "outputs": [
      {
       "output_type": "stream",
       "stream": "stdout",
       "text": [
        "[100]\n",
        "[12]\n",
        "[22]\n",
        "[39]\n"
       ]
      },
      {
       "metadata": {},
       "output_type": "pyout",
       "prompt_number": 7,
       "text": [
        "<matplotlib.collections.PathCollection at 0x10cbf68d0>"
       ]
      }
     ],
     "prompt_number": 7
    },
    {
     "cell_type": "code",
     "collapsed": false,
     "input": [
      "x = np.random.gamma(0.0774,7493.24,(1000,1))\n",
      "y = exp(x)\n",
      "plt.hist(x, label= \"Ln(Area)\", )\n",
      "plt.hist(x, label=\n",
      "plt.hist(y,label=\"Area\")\n",
      "\n",
      "# if log(Area)~Gamma(SFDa,SFDb), then r = math.sqrt(math.pi*math.exp(Gamma(SFDa,SFDb)))"
     ],
     "language": "python",
     "metadata": {},
     "outputs": [
      {
       "ename": "SyntaxError",
       "evalue": "invalid syntax (<ipython-input-9-6db24e376a27>, line 7)",
       "output_type": "pyerr",
       "traceback": [
        "\u001b[0;36m  File \u001b[0;32m\"<ipython-input-9-6db24e376a27>\"\u001b[0;36m, line \u001b[0;32m7\u001b[0m\n\u001b[0;31m    # if log(Area)~Gamma(SFDa,SFDb), then r = math.sqrt(math.pi*math.exp(Gamma(SFDa,SFDb)))\u001b[0m\n\u001b[0m                                                                                           ^\u001b[0m\n\u001b[0;31mSyntaxError\u001b[0m\u001b[0;31m:\u001b[0m invalid syntax\n"
       ]
      }
     ],
     "prompt_number": 9
    },
    {
     "cell_type": "code",
     "collapsed": false,
     "input": [
      "\"\"\"Generate 100 random points within in a 50x10m area\"\"\"\n",
      "\n",
      "import random\n",
      "\n",
      "rangeX = (0, 10)\n",
      "rangeY = (0, 50)\n",
      "qty = 100  \n",
      "\n",
      "randPoints = []\n",
      "excluded = set() #Sets are lists with no duplicate entries\n",
      "i = 0\n",
      "while i<qty:\n",
      "    x = random.randrange(*rangeX)\n",
      "    y = random.randrange(*rangeY)\n",
      "    if (x,y) in excluded: continue\n",
      "    randPoints.append((x,y))\n",
      "    i += 1\n",
      "print randPoints"
     ],
     "language": "python",
     "metadata": {},
     "outputs": []
    },
    {
     "cell_type": "code",
     "collapsed": false,
     "input": [
      "diam = 2*math.sqrt(math.exp(np.random.lognormal(.17,.2))/math.pi)\n",
      "prev = np.random.binomial(1,.2)\n",
      "x = np.random.random(1)*50   # total landscape is 50m in x\n",
      "y= np.random.random(1)*10  # total landscape is 10m in y\n",
      "print diam, prev, x, y\n"
     ],
     "language": "python",
     "metadata": {},
     "outputs": [
      {
       "output_type": "stream",
       "stream": "stdout",
       "text": [
        "1.95691451672 0 [ 30.20211574] [ 9.35421699]\n"
       ]
      }
     ],
     "prompt_number": 8
    },
    {
     "cell_type": "code",
     "collapsed": false,
     "input": [],
     "language": "python",
     "metadata": {},
     "outputs": [
      {
       "output_type": "stream",
       "stream": "stdout",
       "text": [
        "[100]\n",
        "[28]\n",
        "[22]\n",
        "[47]\n"
       ]
      },
      {
       "metadata": {},
       "output_type": "pyout",
       "prompt_number": 70,
       "text": [
        "<matplotlib.collections.PathCollection at 0x10987c190>"
       ]
      }
     ],
     "prompt_number": 70
    },
    {
     "cell_type": "code",
     "collapsed": false,
     "input": [],
     "language": "python",
     "metadata": {},
     "outputs": [],
     "prompt_number": 61
    },
    {
     "cell_type": "code",
     "collapsed": false,
     "input": [],
     "language": "python",
     "metadata": {},
     "outputs": [],
     "prompt_number": 61
    },
    {
     "cell_type": "code",
     "collapsed": false,
     "input": [],
     "language": "python",
     "metadata": {},
     "outputs": [],
     "prompt_number": 61
    },
    {
     "cell_type": "code",
     "collapsed": false,
     "input": [],
     "language": "python",
     "metadata": {},
     "outputs": []
    }
   ],
   "metadata": {}
  }
 ]
}