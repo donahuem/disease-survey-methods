{
 "cells": [
  {
   "cell_type": "raw",
   "metadata": {},
   "source": [
    "Data structure for coral sampling landscapes:\n",
    "\n",
    "Each landscape is an object of Landscape Class that has a set of properties, including\n",
    "    Length (defined as a default size)\n",
    "    Width (defines as a default width)\n",
    "    Number of Colonies\n",
    "    Clumpiness of Distribution\n",
    "    Characteristics of Size Frequency Distribution (e.g., two parameters of a lognormal distrib)\n",
    "    3 Methods:\n",
    "        GenerateColonies, which generates a list of objects of type Colony\n",
    "        BandTransect, which samples using a standard band transect method and returns # sampled colonies and # infected colonies\n",
    "    EstTransect, which returns area alpha sampled for colonies, #colonies in alpha, area A sampled for disease, #disease colonies in A\n",
    "    Line Intercept, whcih samples all colonies under transect and returns # of sampled colonies and # of infected colonies\n",
    "    \n",
    "Each coral colony is an object of type Coral that has a set of properties, including\n",
    "    Size\n",
    "    Disease State\n",
    "    X location in landscape\n",
    "    Y location in landscape\n",
    "\n",
    "Need to update: as of 5/30/15\n",
    " - generateLandscape - update to avoid overlapping colonies\n",
    " - Fix sampling methods: The first LI method is counting all colonies within 10m landscape area, so we have to define a width. The belt transects are only counting colonies that are 100% inside the belt.\n",
    " - Need to find a way to include a 50% rule for sampling colonies within sampling unit.Haven't figured this out yet.\n",
    " - create a exterior loop that generates landscapes of particular characteristics.\n",
    "\n",
    "    "
   ]
  },
  {
   "cell_type": "code",
   "execution_count": 3,
   "metadata": {
    "collapsed": false
   },
   "outputs": [],
   "source": [
    "import math as m\n",
    "import numpy as np\n",
    "import scipy as sp\n",
    "import matplotlib as mpl\n",
    "import matplotlib.pyplot as plt\n",
    "%matplotlib inline"
   ]
  },
  {
   "cell_type": "markdown",
   "metadata": {},
   "source": [
    "Define function 'circles' that will plot coral colonies as circles using matplotlib\n",
    "From here: http://stackoverflow.com/questions/9081553/python-scatter-plot-size-and-style-of-the-marker/24567352#24567352\n"
   ]
  },
  {
   "cell_type": "code",
   "execution_count": 4,
   "metadata": {
    "collapsed": false
   },
   "outputs": [],
   "source": [
    "def circles(x, y, s, c='b', ax=None, vmin=None, vmax=None, **kwargs):\n",
    "    \"\"\"\n",
    "    Make a scatter of circles plot of x vs y, where x and y are sequence \n",
    "    like objects of the same lengths. The size of circles are in data scale.\n",
    "\n",
    "    Parameters\n",
    "    ----------\n",
    "    x,y : scalar or array_like, shape (n, )\n",
    "        Input data\n",
    "    s : scalar or array_like, shape (n, ) \n",
    "        Radius of circle in data scale (ie. in data unit)\n",
    "    c : color or sequence of color, optional, default : 'b'\n",
    "        `c` can be a single color format string, or a sequence of color\n",
    "        specifications of length `N`, or a sequence of `N` numbers to be\n",
    "        mapped to colors using the `cmap` and `norm` specified via kwargs.\n",
    "        Note that `c` should not be a single numeric RGB or\n",
    "        RGBA sequence because that is indistinguishable from an array of\n",
    "        values to be colormapped.  `c` can be a 2-D array in which the\n",
    "        rows are RGB or RGBA, however.\n",
    "    ax : Axes object, optional, default: None\n",
    "        Parent axes of the plot. It uses gca() if not specified.\n",
    "    vmin, vmax : scalar, optional, default: None\n",
    "        `vmin` and `vmax` are used in conjunction with `norm` to normalize\n",
    "        luminance data.  If either are `None`, the min and max of the\n",
    "        color array is used.  (Note if you pass a `norm` instance, your\n",
    "        settings for `vmin` and `vmax` will be ignored.)\n",
    "\n",
    "    Returns\n",
    "    -------\n",
    "    paths : `~matplotlib.collections.PathCollection`\n",
    "\n",
    "    Other parameters\n",
    "    ----------------\n",
    "    kwargs : `~matplotlib.collections.Collection` properties\n",
    "        eg. alpha, edgecolors, facecolors, linewidths, linestyles, norm, cmap\n",
    "\n",
    "    Examples\n",
    "    --------\n",
    "    a = np.arange(11)\n",
    "    circles(a, a, a*0.2, c=a, alpha=0.5, edgecolor='none')\n",
    "\n",
    "    License\n",
    "    --------\n",
    "    This code is under [The BSD 3-Clause License]\n",
    "    (http://opensource.org/licenses/BSD-3-Clause)\n",
    "    \"\"\"\n",
    "    from matplotlib.patches import Circle\n",
    "    from matplotlib.collections import PatchCollection\n",
    "    #import matplotlib.colors as colors\n",
    "\n",
    "    if ax is None:\n",
    "        ax = plt.gca()    \n",
    "\n",
    "    if isinstance(c,basestring):\n",
    "        color = c     # ie. use colors.colorConverter.to_rgba_array(c)\n",
    "    else:\n",
    "        color = None  # use cmap, norm after collection is created\n",
    "    kwargs.update(color=color)\n",
    "\n",
    "    if isinstance(x, (int, long, float)):\n",
    "        patches = [Circle((x, y), s),]\n",
    "    elif isinstance(s, (int, long, float)):\n",
    "        patches = [Circle((x_,y_), s) for x_,y_ in zip(x,y)]\n",
    "    else:\n",
    "        patches = [Circle((x_,y_), s_) for x_,y_,s_ in zip(x,y,s)]\n",
    "    collection = PatchCollection(patches, **kwargs)\n",
    "\n",
    "    if color is None:\n",
    "        collection.set_array(np.asarray(c))\n",
    "        if vmin is not None or vmax is not None:\n",
    "            collection.set_clim(vmin, vmax)\n",
    "\n",
    "    ax.add_collection(collection)\n",
    "    return collection"
   ]
  },
  {
   "cell_type": "code",
   "execution_count": 5,
   "metadata": {
    "collapsed": false
   },
   "outputs": [],
   "source": [
    "class Coral(object):\n",
    "    \"\"\"Define a coral colony as a circle with a diameter, disease state, and x,y location\"\"\"\n",
    "    def __init__(self, diameter, disease, loc):\n",
    "        self.diameter = diameter\n",
    "        self.area = sp.pi*(diameter/2.)**2.\n",
    "        self.disease = disease\n",
    "        self.x = loc[0]\n",
    "        self.y = loc[1]   \n",
    "    def IsDiseased(self):\n",
    "        if self.disease==1:\n",
    "            print \"Diseased\"\n",
    "        else:\n",
    "            print \"Healthy\""
   ]
  },
  {
   "cell_type": "code",
   "execution_count": 6,
   "metadata": {
    "collapsed": false
   },
   "outputs": [
    {
     "name": "stdout",
     "output_type": "stream",
     "text": [
      "0\n",
      "Healthy\n",
      "3.21\n",
      "4.445\n",
      "Define a coral colony as a circle with a diameter, disease state, and x,y location\n"
     ]
    }
   ],
   "source": [
    "#Test Coral object\n",
    "c01 = Coral(14,0,[3.21,4.445])\n",
    "print c01.disease\n",
    "c01.IsDiseased()\n",
    "print c01.x\n",
    "print c01.y\n",
    "print c01.__doc__"
   ]
  },
  {
   "cell_type": "code",
   "execution_count": 8,
   "metadata": {
    "collapsed": false
   },
   "outputs": [],
   "source": [
    "class Landscape(object):\n",
    "    \"\"\"Define a reef landscape by its xy dimensions, mean & sd of the lognormal size freq dist, disease prevalence, and clumpiness\n",
    "    \n",
    "    reefdim: a tuple of x and y dimensions in meters\n",
    "    SFD: a tuple of the (mean,sd) of a lognormal size freq dist for coral colonies on the landscape\n",
    "    prevalence: the probability that a colony on the landscape is diseased\n",
    "    clump: not yet implemented; will be a measure of the aggregation of colonies generated on the landscape\n",
    "    \n",
    "    Changes Needed: (1) BT and ET overestimate density bc of corners\n",
    "                    (2) add more doc strings to methods\n",
    "    \"\"\"\n",
    "    \n",
    "    def __init__(self, reefdim, SFD, prevalence, clump):\n",
    "        self.nCol = 0     #number of colonies\n",
    "        self.xreef = reefdim[0]   #length of reef in x direction (50m)\n",
    "        self.yreef = reefdim[1]   #length of reef in y direction (10m)\n",
    "        self.SFDmu = SFD[0]   #mean of log(size) freq distribution of colonies (i.e., mean of log(diam/2))\n",
    "        self.SFDsig = SFD[1] #sd of log(size) freq distribution of colonies (i.e., sd of log(diam/2))\n",
    "        self.clump = clump   #clumpiness parameter (TBD)\n",
    "        self.prevalence = prevalence #prob that a generated colony is diseased\n",
    "        self.corals = []     #list of corals on this landscape\n",
    "        \n",
    "    def GenerateColonies(self,nCol):\n",
    "        self.nCol = nCol\n",
    "        sizes = np.random.lognormal(self.SFDmu,self.SFDsig,self.nCol)\n",
    "        sorted_size = sorted(sizes,reverse=True)\n",
    "        pcover = sum(np.pi*(sizes/2.)**2)/(self.xreef*self.yreef)\n",
    "        print  ([\"percent cover is \",pcover])\n",
    "        j = 0\n",
    "        s = 0\n",
    "        stop = nCol**2\n",
    "        while j <= (self.nCol - 1):\n",
    "            s += 1  #counter to break loop\n",
    "            x_temp = np.random.uniform(low=1,high=self.xreef)  #random location between x= (0,xreef), and y = 0, yreef)\n",
    "            y_temp = np.random.uniform(low=1,high=self.yreef)\n",
    "            i = 0\n",
    "            overlap = 0\n",
    "            while (i < j) & (overlap == 0):\n",
    "                d = m.sqrt((self.corals[i].x - x_temp)**2 + (self.corals[i].y - y_temp)**2)\n",
    "                if d < (sizes[j]/2 + self.corals[i].diameter/2):\n",
    "                    overlap = 1\n",
    "                i += 1  \n",
    "            if overlap == 0:\n",
    "                prev = np.random.binomial(1,self.prevalence)\n",
    "                self.corals.append(Coral(sizes[j],prev,[x_temp,y_temp]))\n",
    "                j += 1\n",
    "            if s%10000 ==0:\n",
    "                print ([j, \" colonies; \",s,\" iterations\"])\n",
    "            if s > stop:\n",
    "                return([\"Colony generation has exceeded\", stop]) \n",
    "            \n",
    "    def BandTransect(self,stpt,length,width): \n",
    "        if ((stpt[0] + length > self.xreef) | (stpt[1] + width/2. > self.yreef) | (stpt[1] - width/2. < 0)):\n",
    "            return(\"Transect doesn't fit in landscape\")\n",
    "        if self.nCol ==0:\n",
    "            return(\"No colonies on transect\")\n",
    "        ctcols=0\n",
    "        ctdis=0\n",
    "        for i in range(self.nCol):\n",
    "            #want this to count only colonies >50% inside transect\n",
    "            #right now, this still overcounts colonies in the corners\n",
    "            inband = ((stpt[0] < self.corals[i].x < stpt[0] + length)  \n",
    "                   & (stpt[1] - width/2. < self.corals[i].y < stpt[1] + width/2.))\n",
    "            if inband: \n",
    "                ctcols += 1\n",
    "                if self.corals[i].disease == 1:\n",
    "                    ctdis += 1\n",
    "        return(ctcols, ctdis)\n",
    "                                   \n",
    "    def EstTransect(self,stpt,cclength,ccwidth,dclength,dcwidth):\n",
    "        # start point tuple, cc_length = coral count length, cc_width = coral count width\n",
    "        # dc_length = disease count length, dc_width = disease count width\n",
    "        if ((stpt[0] + cclength > self.xreef) | (stpt[1] + ccwidth/2. > self.yreef) | (stpt[1] - ccwidth/2. < 0) | \\\n",
    "            (stpt[0] + dclength > self.xreef) | (stpt[1] + dcwidth/2. > self.yreef) | (stpt[1] - dcwidth/2. < 0)):\n",
    "            return(\"Transect doesn't fit in landscape\")\n",
    "        if self.nCol ==0:\n",
    "            return(\"No colonies on transect\")\n",
    "        ctcols=0\n",
    "        ctdis=0\n",
    "        for i in range(self.nCol):\n",
    "            #want this to count only colonies >50% inside transect\n",
    "            #right now, this still overcounts colonies in the corners\n",
    "            inCCband = ((stpt[0] < self.corals[i].x < stpt[0] + cclength) \\\n",
    "                     & (stpt[1] - ccwidth/2. < self.corals[i].y < stpt[1] + ccwidth/2.))\n",
    "            inDCband = ((stpt[0] < self.corals[i].x < stpt[0] + dclength) \\\n",
    "                     & (stpt[1] - dcwidth/2. < self.corals[i].y < stpt[1] + dcwidth/2.))\n",
    "            if inCCband:\n",
    "                ctcols += 1\n",
    "            if inDCband & self.corals[i].disease == 1:\n",
    "                ctdis += 1\n",
    "        return(ctcols, ctdis)\n",
    "                                   \n",
    "    def LineIntercept(self,stpt,length): \n",
    "        if (stpt[0] + length > self.xreef):\n",
    "            return(\"Transect doesn't fit in landscape\")\n",
    "        if self.nCol ==0:\n",
    "            return(\"No colonies on transect\")\n",
    "        ctcols = 0\n",
    "        ctdis = 0\n",
    "        for i in range(self.nCol):\n",
    "            x_nearest = self.corals[i].x\n",
    "            if self.corals[i].x > stpt[0] + length:\n",
    "                x_nearest= stpt[0] + length\n",
    "            elif self.corals[i].x < stpt[0]:\n",
    "                x_nearest = stpt[0]\n",
    "            ontransect = (m.sqrt((self.corals[i].y - stpt[1])**2) + (self.corals[i].x - x_nearest)**2) < self.corals[i].diameter/2.\n",
    "            if ontransect:\n",
    "                ctcols += 1\n",
    "                if self.corals[i].disease == 1:\n",
    "                    ctdis += 1\n",
    "        return(ctcols,ctdis)\n",
    "    \n",
    "    def AttrList(self,attr):\n",
    "        \"\"\"return list of attribute (attr) from all corals on landscape\"\"\"       \n",
    "        if self.nCol ==0:\n",
    "            return(\"No corals on landscape\")\n",
    "        a = []\n",
    "        for i in range(self.nCol):\n",
    "            a.append(getattr(self.corals[i],attr))\n",
    "        return(a)\n",
    "        "
   ]
  },
  {
   "cell_type": "code",
   "execution_count": 9,
   "metadata": {
    "collapsed": false
   },
   "outputs": [
    {
     "name": "stdout",
     "output_type": "stream",
     "text": [
      "['percent cover is ', 296.75073636304404]\n",
      "[8, ' colonies; ', 10000, ' iterations']\n"
     ]
    },
    {
     "ename": "IndexError",
     "evalue": "list index out of range",
     "output_type": "error",
     "traceback": [
      "\u001b[1;31m---------------------------------------------------------------------------\u001b[0m",
      "\u001b[1;31mIndexError\u001b[0m                                Traceback (most recent call last)",
      "\u001b[1;32m<ipython-input-9-422c6d44b36b>\u001b[0m in \u001b[0;36m<module>\u001b[1;34m()\u001b[0m\n\u001b[0;32m      1\u001b[0m \u001b[0mL01\u001b[0m \u001b[1;33m=\u001b[0m \u001b[0mLandscape\u001b[0m\u001b[1;33m(\u001b[0m\u001b[1;33m[\u001b[0m\u001b[1;36m100\u001b[0m\u001b[1;33m,\u001b[0m\u001b[1;36m20\u001b[0m\u001b[1;33m]\u001b[0m\u001b[1;33m,\u001b[0m\u001b[1;33m[\u001b[0m\u001b[1;36m2.0\u001b[0m\u001b[1;33m,\u001b[0m\u001b[1;36m1.5\u001b[0m\u001b[1;33m]\u001b[0m\u001b[1;33m,\u001b[0m\u001b[1;36m0.2\u001b[0m\u001b[1;33m,\u001b[0m\u001b[1;36m0\u001b[0m\u001b[1;33m)\u001b[0m\u001b[1;33m\u001b[0m\u001b[0m\n\u001b[0;32m      2\u001b[0m \u001b[0mL01\u001b[0m\u001b[1;33m.\u001b[0m\u001b[0mGenerateColonies\u001b[0m\u001b[1;33m(\u001b[0m\u001b[1;36m100\u001b[0m\u001b[1;33m)\u001b[0m\u001b[1;33m\u001b[0m\u001b[0m\n\u001b[1;32m----> 3\u001b[1;33m \u001b[0mL01\u001b[0m\u001b[1;33m.\u001b[0m\u001b[0mBandTransect\u001b[0m\u001b[1;33m(\u001b[0m\u001b[1;33m[\u001b[0m\u001b[1;36m5\u001b[0m\u001b[1;33m,\u001b[0m\u001b[1;36m5\u001b[0m\u001b[1;33m]\u001b[0m\u001b[1;33m,\u001b[0m\u001b[1;36m25\u001b[0m\u001b[1;33m,\u001b[0m\u001b[1;36m2\u001b[0m\u001b[1;33m)\u001b[0m\u001b[1;33m\u001b[0m\u001b[0m\n\u001b[0m\u001b[0;32m      4\u001b[0m \u001b[0mL01\u001b[0m\u001b[1;33m.\u001b[0m\u001b[0mEstTransect\u001b[0m\u001b[1;33m(\u001b[0m\u001b[1;33m[\u001b[0m\u001b[1;36m5\u001b[0m\u001b[1;33m,\u001b[0m\u001b[1;36m5\u001b[0m\u001b[1;33m]\u001b[0m\u001b[1;33m,\u001b[0m\u001b[1;36m10\u001b[0m\u001b[1;33m,\u001b[0m\u001b[1;36m1\u001b[0m\u001b[1;33m,\u001b[0m\u001b[1;36m25\u001b[0m\u001b[1;33m,\u001b[0m\u001b[1;36m4\u001b[0m\u001b[1;33m)\u001b[0m\u001b[1;33m\u001b[0m\u001b[0m\n\u001b[0;32m      5\u001b[0m \u001b[0mL01\u001b[0m\u001b[1;33m.\u001b[0m\u001b[0mLineIntercept\u001b[0m\u001b[1;33m(\u001b[0m\u001b[1;33m[\u001b[0m\u001b[1;36m5\u001b[0m\u001b[1;33m,\u001b[0m\u001b[1;36m5\u001b[0m\u001b[1;33m]\u001b[0m\u001b[1;33m,\u001b[0m\u001b[1;36m25\u001b[0m\u001b[1;33m)\u001b[0m\u001b[1;33m\u001b[0m\u001b[0m\n",
      "\u001b[1;32m<ipython-input-8-42e07a03bb25>\u001b[0m in \u001b[0;36mBandTransect\u001b[1;34m(self, stpt, length, width)\u001b[0m\n\u001b[0;32m     60\u001b[0m             \u001b[1;31m#want this to count only colonies >50% inside transect\u001b[0m\u001b[1;33m\u001b[0m\u001b[1;33m\u001b[0m\u001b[0m\n\u001b[0;32m     61\u001b[0m             \u001b[1;31m#right now, this still overcounts colonies in the corners\u001b[0m\u001b[1;33m\u001b[0m\u001b[1;33m\u001b[0m\u001b[0m\n\u001b[1;32m---> 62\u001b[1;33m             inband = ((stpt[0] < self.corals[i].x < stpt[0] + length)  \n\u001b[0m\u001b[0;32m     63\u001b[0m                    & (stpt[1] - width/2. < self.corals[i].y < stpt[1] + width/2.))\n\u001b[0;32m     64\u001b[0m             \u001b[1;32mif\u001b[0m \u001b[0minband\u001b[0m\u001b[1;33m:\u001b[0m\u001b[1;33m\u001b[0m\u001b[0m\n",
      "\u001b[1;31mIndexError\u001b[0m: list index out of range"
     ]
    }
   ],
   "source": [
    "L01 = Landscape([100,20],[2.0,1.5],0.2,0)\n",
    "L01.GenerateColonies(100)\n",
    "L01.BandTransect([5,5],25,2)\n",
    "L01.EstTransect([5,5],10,1,25,4)\n",
    "L01.LineIntercept([5,5],25)\n",
    "plt.hist(L01.AttrList(\"diameter\"))"
   ]
  },
  {
   "cell_type": "code",
   "execution_count": 9,
   "metadata": {
    "collapsed": false
   },
   "outputs": [
    {
     "ename": "TypeError",
     "evalue": "__init__() takes exactly 5 arguments (6 given)",
     "output_type": "error",
     "traceback": [
      "\u001b[1;31m---------------------------------------------------------------------------\u001b[0m",
      "\u001b[1;31mTypeError\u001b[0m                                 Traceback (most recent call last)",
      "\u001b[1;32m<ipython-input-9-9019c5dfffaa>\u001b[0m in \u001b[0;36m<module>\u001b[1;34m()\u001b[0m\n\u001b[1;32m----> 1\u001b[1;33m \u001b[0mL01\u001b[0m \u001b[1;33m=\u001b[0m \u001b[0mLandscape\u001b[0m\u001b[1;33m(\u001b[0m\u001b[1;33m[\u001b[0m\u001b[1;36m100\u001b[0m\u001b[1;33m,\u001b[0m\u001b[1;36m20\u001b[0m\u001b[1;33m]\u001b[0m\u001b[1;33m,\u001b[0m\u001b[1;36m.18\u001b[0m\u001b[1;33m,\u001b[0m\u001b[1;36m.2\u001b[0m\u001b[1;33m,\u001b[0m\u001b[1;36m0.2\u001b[0m\u001b[1;33m,\u001b[0m\u001b[1;36m0\u001b[0m\u001b[1;33m)\u001b[0m\u001b[1;33m\u001b[0m\u001b[0m\n\u001b[0m\u001b[0;32m      2\u001b[0m \u001b[0mL01\u001b[0m\u001b[1;33m.\u001b[0m\u001b[0mGenerateColonies\u001b[0m\u001b[1;33m(\u001b[0m\u001b[1;36m100\u001b[0m\u001b[1;33m)\u001b[0m\u001b[1;33m\u001b[0m\u001b[0m\n\u001b[0;32m      3\u001b[0m \u001b[0mL01\u001b[0m\u001b[1;33m.\u001b[0m\u001b[0mBandTransect\u001b[0m\u001b[1;33m(\u001b[0m\u001b[1;33m[\u001b[0m\u001b[1;36m5\u001b[0m\u001b[1;33m,\u001b[0m\u001b[1;36m5\u001b[0m\u001b[1;33m]\u001b[0m\u001b[1;33m,\u001b[0m\u001b[1;36m25\u001b[0m\u001b[1;33m,\u001b[0m\u001b[1;36m2\u001b[0m\u001b[1;33m)\u001b[0m\u001b[1;33m\u001b[0m\u001b[0m\n\u001b[0;32m      4\u001b[0m \u001b[0mL01\u001b[0m\u001b[1;33m.\u001b[0m\u001b[0mEstTransect\u001b[0m\u001b[1;33m(\u001b[0m\u001b[1;33m[\u001b[0m\u001b[1;36m5\u001b[0m\u001b[1;33m,\u001b[0m\u001b[1;36m5\u001b[0m\u001b[1;33m]\u001b[0m\u001b[1;33m,\u001b[0m\u001b[1;36m10\u001b[0m\u001b[1;33m,\u001b[0m\u001b[1;36m1\u001b[0m\u001b[1;33m,\u001b[0m\u001b[1;36m25\u001b[0m\u001b[1;33m,\u001b[0m\u001b[1;36m4\u001b[0m\u001b[1;33m)\u001b[0m\u001b[1;33m\u001b[0m\u001b[0m\n\u001b[0;32m      5\u001b[0m \u001b[0mL01\u001b[0m\u001b[1;33m.\u001b[0m\u001b[0mLineIntercept\u001b[0m\u001b[1;33m(\u001b[0m\u001b[1;33m[\u001b[0m\u001b[1;36m5\u001b[0m\u001b[1;33m,\u001b[0m\u001b[1;36m5\u001b[0m\u001b[1;33m]\u001b[0m\u001b[1;33m,\u001b[0m\u001b[1;36m25\u001b[0m\u001b[1;33m)\u001b[0m\u001b[1;33m\u001b[0m\u001b[0m\n",
      "\u001b[1;31mTypeError\u001b[0m: __init__() takes exactly 5 arguments (6 given)"
     ]
    }
   ],
   "source": [
    "L01 = Landscape([100,20],[.18,.2],0.2,0)\n",
    "L01.GenerateColonies(100)\n",
    "L01.BandTransect([5,5],25,2)\n",
    "L01.EstTransect([5,5],10,1,25,4)\n",
    "L01.LineIntercept([5,5],25)\n",
    "\n",
    "\n",
    "print L01.band_nCol\n",
    "print L01.band_disCol\n",
    "\n",
    "print L01.estband_nCol\n",
    "print L01.estband_disCol\n",
    "\n",
    "print L01.LI_nCol\n",
    "print L01.LI_disCol\n",
    "\n",
    "\n",
    "\n",
    "L01x = []\n",
    "L01y = []\n",
    "L01area = []\n",
    "L01dis = []\n",
    "for i in range(0,100):\n",
    "    L01x.append(L01.corals[i].x)\n",
    "    L01y.append(L01.corals[i].y)\n",
    "    L01area.append(L01.corals[i].area*10)\n",
    "    L01dis.append(L01.corals[i].dis+1)\n",
    "\n",
    "plt.scatter(L01x,L01y,s=L01area,c = L01dis)"
   ]
  },
  {
   "cell_type": "code",
   "execution_count": 25,
   "metadata": {
    "collapsed": false
   },
   "outputs": [
    {
     "ename": "NameError",
     "evalue": "name 'gca' is not defined",
     "output_type": "error",
     "traceback": [
      "\u001b[0;31m---------------------------------------------------------------------------\u001b[0m",
      "\u001b[0;31mNameError\u001b[0m                                 Traceback (most recent call last)",
      "\u001b[0;32m<ipython-input-25-9f8176fc0483>\u001b[0m in \u001b[0;36m<module>\u001b[0;34m()\u001b[0m\n\u001b[1;32m     21\u001b[0m \u001b[0;34m\u001b[0m\u001b[0m\n\u001b[1;32m     22\u001b[0m \u001b[0mplt\u001b[0m\u001b[0;34m.\u001b[0m\u001b[0mfigure\u001b[0m\u001b[0;34m(\u001b[0m\u001b[0mfigsize\u001b[0m\u001b[0;34m=\u001b[0m\u001b[0;34m[\u001b[0m\u001b[0;36m20\u001b[0m\u001b[0;34m,\u001b[0m\u001b[0;36m4\u001b[0m\u001b[0;34m]\u001b[0m\u001b[0;34m)\u001b[0m\u001b[0;34m\u001b[0m\u001b[0m\n\u001b[0;32m---> 23\u001b[0;31m \u001b[0max\u001b[0m \u001b[0;34m=\u001b[0m \u001b[0mgca\u001b[0m\u001b[0;34m(\u001b[0m\u001b[0;34m)\u001b[0m\u001b[0;34m\u001b[0m\u001b[0m\n\u001b[0m\u001b[1;32m     24\u001b[0m \u001b[0mcircles\u001b[0m\u001b[0;34m(\u001b[0m\u001b[0mL01x\u001b[0m\u001b[0;34m,\u001b[0m\u001b[0mL01y\u001b[0m\u001b[0;34m,\u001b[0m\u001b[0mL01r\u001b[0m\u001b[0;34m,\u001b[0m \u001b[0medgecolor\u001b[0m \u001b[0;34m=\u001b[0m \u001b[0;34m'b'\u001b[0m\u001b[0;34m,\u001b[0m \u001b[0mfacecolor\u001b[0m\u001b[0;34m=\u001b[0m\u001b[0;34m'none'\u001b[0m\u001b[0;34m)\u001b[0m\u001b[0;34m\u001b[0m\u001b[0m\n\u001b[1;32m     25\u001b[0m \u001b[0mRectangle\u001b[0m\u001b[0;34m(\u001b[0m\u001b[0;34m[\u001b[0m\u001b[0;36m5\u001b[0m\u001b[0;34m,\u001b[0m\u001b[0;36m4\u001b[0m\u001b[0;34m]\u001b[0m\u001b[0;34m,\u001b[0m\u001b[0;36m25\u001b[0m\u001b[0;34m,\u001b[0m\u001b[0;36m2\u001b[0m\u001b[0;34m)\u001b[0m\u001b[0;34m\u001b[0m\u001b[0m\n",
      "\u001b[0;31mNameError\u001b[0m: name 'gca' is not defined"
     ]
    }
   ],
   "source": [
    "\"\"\"generate a Landscape and plot it\"\"\"\n",
    "nc = 1000\n",
    "L01 = Landscape(nc,-2.25,1.07,0.2,0)  #mean(log(ColonyLength in m)) = -2.25; sd(log(ColonyLength in m)) = 1.07\n",
    "L01.generateColonies()\n",
    "\n",
    "L01x = np.zeros(nc,float)\n",
    "L01y = np.zeros(nc,float)\n",
    "L01r = np.zeros(nc,float)\n",
    "L01dis = np.zeros(nc,int)\n",
    "for i in range(0,nc):\n",
    "    L01x[i] = L01.corals[i].x\n",
    "    L01y[i] = L01.corals[i].y\n",
    "    L01r[i] = L01.corals[i].diam/2\n",
    "    L01dis[i] = L01.corals[i].dis+1\n",
    "\n",
    "from matplotlib.ticker import FixedLocator, FormatStrFormatter\n",
    "minorLocatorx = FixedLocator(range(0,51,1))\n",
    "minorLocatory = FixedLocator(range(0,11,1))\n",
    "\n",
    "from matplotlib.patches import Rectangle\n",
    "\n",
    "plt.figure(figsize=[20,4])\n",
    "ax = gca()\n",
    "circles(L01x,L01y,L01r, edgecolor = 'b', facecolor='none')\n",
    "Rectangle([5,4],25,2)\n",
    "plt.xlim([0,50])\n",
    "plt.ylim([0,10])\n",
    "ax.xaxis.set_minor_locator(minorLocatorx)\n",
    "ax.yaxis.set_minor_locator(minorLocatory)\n",
    "plt.grid(b=True,which='both',axis='both')\n",
    "\n",
    "\n",
    "plt.figure()\n",
    "plt.hist(np.multiply(L01r,2),30)\n",
    "plt.xlim([0,1.5])\n",
    "plt.xlabel('Colony Diameter in meters')\n"
   ]
  },
  {
   "cell_type": "code",
   "execution_count": null,
   "metadata": {
    "collapsed": false
   },
   "outputs": [],
   "source": [
    "x = np.random.lognormal(2.35,1.075,100)\n",
    "plt.hist(x,20)"
   ]
  }
 ],
 "metadata": {
  "kernelspec": {
   "display_name": "Python 2",
   "language": "python",
   "name": "python2"
  },
  "language_info": {
   "codemirror_mode": {
    "name": "ipython",
    "version": 2
   },
   "file_extension": ".py",
   "mimetype": "text/x-python",
   "name": "python",
   "nbconvert_exporter": "python",
   "pygments_lexer": "ipython2",
   "version": "2.7.9"
  }
 },
 "nbformat": 4,
 "nbformat_minor": 0
}
