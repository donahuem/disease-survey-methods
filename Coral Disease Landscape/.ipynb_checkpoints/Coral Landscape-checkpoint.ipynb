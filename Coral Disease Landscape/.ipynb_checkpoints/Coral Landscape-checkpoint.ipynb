{
 "metadata": {
  "name": "",
  "signature": "sha256:40cbc09b12cc578340d20ba0d1b2efae3475eca53804ab256ef99255d07a3988"
 },
 "nbformat": 3,
 "nbformat_minor": 0,
 "worksheets": [
  {
   "cells": [
    {
     "cell_type": "raw",
     "metadata": {},
     "source": [
      "Data structure for coral sampling landscapes:\n",
      "\n",
      "Each landscape is an object of Landscape Class that has a set of properties, including\n",
      "    Length (defined as a default size)\n",
      "    Width (defines as a default width)\n",
      "    Number of Colonies\n",
      "    Clumpiness of Distribution\n",
      "    Characteristics of Size Frequency Distribution (e.g., two parameters of a lognormal distrib)\n",
      "    2 Methods:\n",
      "        GenerateColonies, which generates a list of objects of type Colony\n",
      "        BandTransect, which samples using a standard band transect method and returns # sampled colonies and # infected colonies\n",
      "    EstTransect, which returns area alpha sampled for colonies, #colonies in alpha, area A sampled for disease, #disease colonies in A\n",
      "    \n",
      "Each coral colony is an object of type Coral that has a set of properties, including\n",
      "    Size\n",
      "    Disease State\n",
      "    X location in landscape\n",
      "    Y location in landscape\n",
      "\n",
      "- Switch to lognormal\n",
      "- in Landscape class \n",
      "def gencol\n",
      "from 1-ncol\n",
      "choose random size (from SFDa and b), random disease with disease probablity and coordinate\n",
      "call coral (size, disease, lat, long)\n",
      "\n",
      "Random coordinates:\n",
      "landscape.maxX\n",
      "landscape.maxY\n",
      "landscape.ncol\n",
      "\n",
      "to place corals in landscape by size (large first)\n",
      "generate a list of sizes (rnorm(SFDa,b)\n",
      "Rank order and # colonies based on size\n",
      "then place down in landscape in that order\n",
      "\n",
      "\n",
      "    "
     ]
    },
    {
     "cell_type": "code",
     "collapsed": false,
     "input": [
      "import math as m\n",
      "import numpy as np\n",
      "import scipy as sp\n",
      "import matplotlib as mpl\n",
      "import matplotlib.pyplot as plt\n",
      "import shapely.geometry"
     ],
     "language": "python",
     "metadata": {},
     "outputs": []
    },
    {
     "cell_type": "code",
     "collapsed": false,
     "input": [
      "class Coral(object):\n",
      "    \"\"\"A class that makes corals with a size, disease state, and location\"\"\"\n",
      "    def __init__(self, diam, dis, lat, lon):\n",
      "        self.diam = diam\n",
      "        self.area = sp.pi*(diam/2.)**2.\n",
      "        self.dis = dis\n",
      "        self.lat = lat\n",
      "        self.lon = lon\n",
      "    \n",
      "    def is_dis(self):\n",
      "        if self.dis==True:\n",
      "            print \"Diseased\"\n",
      "        else:\n",
      "            print \"Healthy\"\n",
      "            \n",
      "c01 = Coral(14,False,3.21,4.445) "
     ],
     "language": "python",
     "metadata": {},
     "outputs": [],
     "prompt_number": 8
    },
    {
     "cell_type": "code",
     "collapsed": false,
     "input": [
      "class Landscape(object):\n",
      "    \"\"\"Inputs/Arguments: (Number of Colonies, SFD parameter 1, SFD parameter 2, Clumpiness Parameter)\"\"\"\n",
      "    \"\"\"A class that creates landscapes characterized by number of colonies N, size freq distribution, and clumpiness\"\"\"\n",
      "    \"\"\"Assume that the log(coral.area)~gamma(SFDa,SFDb), so that r = math.sqrt(math.pi*math.exp(gamma(SFDa,SFDb)))\"\"\"\n",
      "    \"\"\"Assign a fixed length and width\"\"\"\n",
      "    \n",
      "    reef = [[0, 0], [0, 55], [10,55], [10,0]]\n",
      "\n",
      "    def __init__(self,nCol, SFDa, SFDb, clump):\n",
      "        self.nCol = nCol\n",
      "        self.SFDa = SFDa\n",
      "        self.SFDb = SFDb\n",
      "        self.clump = clump\n",
      "        self.corals = []\n",
      "    def generateColonies(self):\n",
      "        print \"Undefined\"\n",
      "        for i in range(0,self.nCol):\n",
      "            self.corals[i] = Coral()\n",
      "    def belt_transect(self):\n",
      "        transect= [[4,15], [8,15], [4,35], [8,35]] \n",
      "        \"\"\"I think there are several modules that will allow us to place 1 rectangle inside another\"\"\"\n",
      "        \n",
      "L01 = Landscape(100,0.0774,7493.24,1)\n",
      "dir(L01)"
     ],
     "language": "python",
     "metadata": {},
     "outputs": [
      {
       "metadata": {},
       "output_type": "pyout",
       "prompt_number": 9,
       "text": [
        "['SFDa',\n",
        " 'SFDb',\n",
        " '__class__',\n",
        " '__delattr__',\n",
        " '__dict__',\n",
        " '__doc__',\n",
        " '__format__',\n",
        " '__getattribute__',\n",
        " '__hash__',\n",
        " '__init__',\n",
        " '__module__',\n",
        " '__new__',\n",
        " '__reduce__',\n",
        " '__reduce_ex__',\n",
        " '__repr__',\n",
        " '__setattr__',\n",
        " '__sizeof__',\n",
        " '__str__',\n",
        " '__subclasshook__',\n",
        " '__weakref__',\n",
        " 'belt_transect',\n",
        " 'clump',\n",
        " 'corals',\n",
        " 'generateColonies',\n",
        " 'nCol',\n",
        " 'reef']"
       ]
      }
     ],
     "prompt_number": 9
    },
    {
     "cell_type": "code",
     "collapsed": false,
     "input": [
      "x = np.random.gamma(0.0774,7493.24,(1000,1))\n",
      "y = exp(x)\n",
      "plt.hist(x, label= \"Ln(Area)\", )\n",
      "plt.hist(x, label=\n",
      "plt.hist(y,label=\"Area\")\n",
      "\n",
      "\"\"\"if log(Area)~Gamma(SFDa,SFDb), then r = math.sqrt(math.pi*math.exp(Gamma(SFDa,SFDb)))\"\"\""
     ],
     "language": "python",
     "metadata": {},
     "outputs": [
      {
       "ename": "SyntaxError",
       "evalue": "invalid syntax (<ipython-input-14-181231d03791>, line 5)",
       "output_type": "pyerr",
       "traceback": [
        "\u001b[0;36m  File \u001b[0;32m\"<ipython-input-14-181231d03791>\"\u001b[0;36m, line \u001b[0;32m5\u001b[0m\n\u001b[0;31m    plt.hist(y,label=\"Area\")\u001b[0m\n\u001b[0m                            ^\u001b[0m\n\u001b[0;31mSyntaxError\u001b[0m\u001b[0;31m:\u001b[0m invalid syntax\n"
       ]
      }
     ],
     "prompt_number": 14
    },
    {
     "cell_type": "code",
     "collapsed": false,
     "input": [
      "\"\"\"Generate 100 random points within in a 50x10m area\"\"\"\n",
      "\n",
      "import random\n",
      "\n",
      "rangeX = (0, 10)\n",
      "rangeY = (0, 50)\n",
      "qty = 100  \n",
      "\n",
      "randPoints = []\n",
      "excluded = set() \n",
      "\"\"\"Sets are lists with no duplicate entries.\"\"\"\n",
      "i = 0\n",
      "while i<qty:\n",
      "    x = random.randrange(*rangeX)\n",
      "    y = random.randrange(*rangeY)\n",
      "    if (x,y) in excluded: continue\n",
      "    randPoints.append((x,y))\n",
      "    i += 1\n",
      "print randPoints"
     ],
     "language": "python",
     "metadata": {},
     "outputs": [
      {
       "output_type": "stream",
       "stream": "stdout",
       "text": [
        "[(7, 10), (2, 27), (9, 39), (3, 23), (3, 40), (3, 6), (1, 2), (3, 24), (9, 11), (5, 22), (6, 4), (7, 42), (1, 3), (7, 34), (7, 25), (8, 24), (9, 32), (7, 34), (1, 17), (3, 31), (7, 8), (5, 2), (9, 34), (3, 11), (5, 18), (2, 29), (9, 47), (4, 28), (3, 32), (6, 36), (8, 49), (0, 49), (2, 41), (5, 48), (6, 47), (0, 35), (7, 23), (1, 16), (7, 37), (2, 26), (9, 7), (8, 40), (2, 2), (1, 19), (4, 30), (4, 46), (9, 45), (6, 34), (4, 12), (9, 10), (7, 4), (3, 13), (4, 38), (9, 28), (0, 41), (4, 12), (3, 47), (1, 12), (5, 26), (6, 10), (7, 6), (3, 1), (7, 37), (2, 32), (8, 9), (4, 41), (9, 20), (9, 43), (2, 9), (1, 29), (3, 33), (8, 1), (6, 17), (2, 49), (8, 31), (2, 45), (5, 42), (6, 0), (2, 14), (0, 35), (3, 9), (7, 7), (2, 18), (7, 41), (7, 31), (9, 19), (4, 34), (7, 19), (2, 26), (3, 25), (0, 19), (5, 26), (4, 3), (3, 48), (6, 5), (5, 30), (7, 17), (9, 30), (6, 4), (1, 38)]\n"
       ]
      }
     ],
     "prompt_number": 10
    },
    {
     "cell_type": "code",
     "collapsed": false,
     "input": [
      "\n",
      "from shapely.geometry.point import Point\n",
      "p = Point(0, 0) # use randomly generated point in space\n",
      "circle = p.buffer(1.0) # use the randomly generated diameter\n",
      "list(circle.exterior.coords)\n",
      "\n",
      "if object coral[i].intersects > 10% size of coral[i]- reject. \n",
      "\n",
      "continue\n",
      "pass\n"
     ],
     "language": "python",
     "metadata": {},
     "outputs": []
    },
    {
     "cell_type": "code",
     "collapsed": false,
     "input": [],
     "language": "python",
     "metadata": {},
     "outputs": []
    },
    {
     "cell_type": "code",
     "collapsed": false,
     "input": [],
     "language": "python",
     "metadata": {},
     "outputs": []
    }
   ],
   "metadata": {}
  }
 ]
}