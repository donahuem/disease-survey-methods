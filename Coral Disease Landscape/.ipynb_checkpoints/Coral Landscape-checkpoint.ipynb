{
 "metadata": {
  "name": "",
  "signature": "sha256:94c22d80ad637d2d8f889a50888a9ae20ae2407775774ccc5b3227d4b520b905"
 },
 "nbformat": 3,
 "nbformat_minor": 0,
 "worksheets": []
}