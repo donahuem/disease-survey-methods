{
 "metadata": {
  "name": "syntaxstuff.ipynb",
  "signature": "sha256:3783848d54936f93896fe4b1ad012628f7dc30a84abe7101475dfe168ebc3138"
 },
 "nbformat": 3,
 "nbformat_minor": 0,
 "worksheets": [
  {
   "cells": [
    {
     "cell_type": "code",
     "collapsed": false,
     "input": [
      "text = \"this hack is wack hack\"\n",
      "word = \"hack\"\n",
      "word_new = \"*\" * len(word)\n",
      "text_list= text.split()\n",
      "for i in text_list:\n",
      "    print i\n",
      "    \n",
      "#while text.find(word):\n",
      "#    j = text.find(word)\n",
      "#    text += text[i:j]+ word_new\n",
      "#    i = j + len(word)\n",
      "#return text\n",
      "#print text_new\n",
      "print text[0:len(text)-1]"
     ],
     "language": "python",
     "metadata": {},
     "outputs": [
      {
       "output_type": "stream",
       "stream": "stdout",
       "text": [
        "this\n",
        "hack\n",
        "is\n",
        "wack\n",
        "hack\n",
        "this hack is wack hac\n"
       ]
      }
     ],
     "prompt_number": 9
    },
    {
     "cell_type": "code",
     "collapsed": false,
     "input": [
      "diam=14.\n",
      "a = math.pi*(14/2.)**2.\n",
      "print a"
     ],
     "language": "python",
     "metadata": {},
     "outputs": [
      {
       "output_type": "stream",
       "stream": "stdout",
       "text": [
        "153.938040026\n"
       ]
      }
     ],
     "prompt_number": 2
    },
    {
     "cell_type": "code",
     "collapsed": false,
     "input": [
      "numlist = [1,5,3,4,6,7,99,235]\n",
      "for i in numlist:\n",
      "    print i%2"
     ],
     "language": "python",
     "metadata": {},
     "outputs": [
      {
       "output_type": "stream",
       "stream": "stdout",
       "text": [
        "1\n",
        "1\n",
        "1\n",
        "0\n",
        "0\n",
        "1\n",
        "1\n",
        "1\n"
       ]
      }
     ],
     "prompt_number": 10
    },
    {
     "cell_type": "code",
     "collapsed": false,
     "input": [
      "inlist = [6,5,9,7,4,2, 7]\n",
      "sort_list = sorted(inlist)\n",
      "size_list = float(len(inlist))\n",
      "print size_list\n",
      "if size_list%2 == 1:\n",
      "    print round(size_list/2)-1\n",
      "    print sort_list[int(round(size_list/2)-1)]\n",
      "else:\n",
      "    print sort_list[int(size_list/2)]\n",
      "    print sort_list[int(size_list/2 -1)]\n",
      "    print (float(sort_list[int(size_list/2)]) + float(sort_list[int(size_list/2 -1)]))/2.0\n",
      "\n"
     ],
     "language": "python",
     "metadata": {},
     "outputs": [
      {
       "output_type": "stream",
       "stream": "stdout",
       "text": [
        "7.0\n",
        "3.0\n",
        "6\n"
       ]
      }
     ],
     "prompt_number": 39
    }
   ],
   "metadata": {}
  }
 ]
}