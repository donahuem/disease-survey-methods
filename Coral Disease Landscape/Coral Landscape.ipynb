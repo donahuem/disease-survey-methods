{
 "cells": [
  {
   "cell_type": "raw",
   "metadata": {},
   "source": [
    "Data structure for coral sampling landscapes:\n",
    "\n",
    "Each landscape is an object of Landscape Class that has a set of properties, including\n",
    "    Length (defined as a default size)\n",
    "    Width (defines as a default width)\n",
    "    Number of Colonies\n",
    "    Clumpiness of Distribution\n",
    "    Characteristics of Size Frequency Distribution (e.g., two parameters of a lognormal distrib)\n",
    "    3 Methods:\n",
    "        GenerateColonies, which generates a list of objects of type Colony\n",
    "        BandTransect, which samples using a standard band transect method and returns # sampled colonies and # infected colonies\n",
    "    EstTransect, which returns area alpha sampled for colonies, #colonies in alpha, area A sampled for disease, #disease colonies in A\n",
    "    Line Intercept, whcih samples all colonies under transect and returns # of sampled colonies and # of infected colonies\n",
    "    \n",
    "Each coral colony is an object of type Coral that has a set of properties, including\n",
    "    Size\n",
    "    Disease State\n",
    "    X location in landscape\n",
    "    Y location in landscape\n",
    "\n",
    "Need to update: as of 10/16/16\n",
    " - Fix sampling methods: Band Transects include colonies in corners that may only be 1/4 inside \n",
    " - add size dependent prevalence\n",
    " \n",
    "\n",
    "    "
   ]
  },
  {
   "cell_type": "markdown",
   "metadata": {},
   "source": [
    "Define function 'circles' that will plot coral colonies as circles using matplotlib\n",
    "From here: http://stackoverflow.com/questions/9081553/python-scatter-plot-size-and-style-of-the-marker/24567352#24567352\n"
   ]
  },
  {
   "cell_type": "code",
   "execution_count": 303,
   "metadata": {
    "collapsed": false
   },
   "outputs": [],
   "source": [
    "import math as m\n",
    "import numpy as np\n",
    "import scipy as sp\n",
    "import matplotlib as mpl\n",
    "import matplotlib.pyplot as plt\n",
    "import time\n",
    "import csv\n",
    "%matplotlib inline\n",
    "\n",
    "def circles(x, y, s, c='b', ax=None, vmin=None, vmax=None, **kwargs):\n",
    "    \"\"\"\n",
    "    Make a scatter of circles plot of x vs y, where x and y are sequence \n",
    "    like objects of the same lengths. The size of circles are in data scale.\n",
    "\n",
    "    Parameters\n",
    "    ----------\n",
    "    x,y : scalar or array_like, shape (n, )\n",
    "        Input data\n",
    "    s : scalar or array_like, shape (n, ) \n",
    "        Radius of circle in data scale (ie. in data unit)\n",
    "    c : color or sequence of color, optional, default : 'b'\n",
    "        `c` can be a single color format string, or a sequence of color\n",
    "        specifications of length `N`, or a sequence of `N` numbers to be\n",
    "        mapped to colors using the `cmap` and `norm` specified via kwargs.\n",
    "        Note that `c` should not be a single numeric RGB or\n",
    "        RGBA sequence because that is indistinguishable from an array of\n",
    "        values to be colormapped.  `c` can be a 2-D array in which the\n",
    "        rows are RGB or RGBA, however.\n",
    "    ax : Axes object, optional, default: None\n",
    "        Parent axes of the plot. It uses gca() if not specified.\n",
    "    vmin, vmax : scalar, optional, default: None\n",
    "        `vmin` and `vmax` are used in conjunction with `norm` to normalize\n",
    "        luminance data.  If either are `None`, the min and max of the\n",
    "        color array is used.  (Note if you pass a `norm` instance, your\n",
    "        settings for `vmin` and `vmax` will be ignored.)\n",
    "\n",
    "    Returns\n",
    "    -------\n",
    "    paths : `~matplotlib.collections.PathCollection`\n",
    "\n",
    "    Other parameters\n",
    "    ----------------\n",
    "    kwargs : `~matplotlib.collections.Collection` properties\n",
    "        eg. alpha, edgecolors, facecolors, linewidths, linestyles, norm, cmap\n",
    "\n",
    "    Examples\n",
    "    --------\n",
    "    a = np.arange(11)\n",
    "    circles(a, a, a*0.2, c=a, alpha=0.5, edgecolor='none')\n",
    "\n",
    "    License\n",
    "    --------\n",
    "    This code is under [The BSD 3-Clause License]\n",
    "    (http://opensource.org/licenses/BSD-3-Clause)\n",
    "    \"\"\"\n",
    "    from matplotlib.patches import Circle\n",
    "    from matplotlib.collections import PatchCollection\n",
    "    #import matplotlib.colors as colors\n",
    "\n",
    "    if ax is None:\n",
    "        ax = plt.gca()    \n",
    "\n",
    "    if isinstance(c,basestring):\n",
    "        color = c     # ie. use colors.colorConverter.to_rgba_array(c)\n",
    "    else:\n",
    "        color = None  # use cmap, norm after collection is created\n",
    "    kwargs.update(color=color)\n",
    "\n",
    "    if isinstance(x, (int, long, float)):\n",
    "        patches = [Circle((x, y), s),]\n",
    "    elif isinstance(s, (int, long, float)):\n",
    "        patches = [Circle((x_,y_), s) for x_,y_ in zip(x,y)]\n",
    "    else:\n",
    "        patches = [Circle((x_,y_), s_) for x_,y_,s_ in zip(x,y,s)]\n",
    "    collection = PatchCollection(patches, **kwargs)\n",
    "\n",
    "    if color is None:\n",
    "        collection.set_array(np.asarray(c))\n",
    "        if vmin is not None or vmax is not None:\n",
    "            collection.set_clim(vmin, vmax)\n",
    "\n",
    "    ax.add_collection(collection)\n",
    "    return collection\n",
    "\n",
    "class Coral(object):\n",
    "    \"\"\"Define a coral colony as a circle with a diameter, disease state, and x,y location\"\"\"\n",
    "    def __init__(self, diameter, disease, loc):\n",
    "        self.diameter = diameter\n",
    "        self.area = sp.pi*(diameter/2.)**2.\n",
    "        self.disease = disease\n",
    "        self.x = loc[0]\n",
    "        self.y = loc[1]   \n",
    "    def IsDiseased(self):\n",
    "        if self.disease==1:\n",
    "            print \"Diseased\"\n",
    "        else:\n",
    "            print \"Healthy\"\n",
    "            \n",
    "class Landscape(object):\n",
    "    \"\"\"Define a reef landscape by its xy dimensions, mean & sd of the lognormal size freq dist, disease prevalence, and clumpiness\n",
    "    \n",
    "    reefdim: [x,y] dimensions in meters\n",
    "    SFD: [mean,sd] of a lognormal size freq dist for coral colonies on the landscape\n",
    "    prevalence: the probability that a colony on the landscape is diseased (if sizeprev==T, then slope of prev v diam(m))\n",
    "    clump: not yet implemented; defaults to 0; will be a measure of the aggregation of colonies generated on the landscape\n",
    "    \n",
    "    Changes Needed: (1) BT and ET overestimate density bc of corners\n",
    "                    (2) add more doc strings to methods\n",
    "    \"\"\"\n",
    "    \n",
    "    def __init__(self, reefdim, SFD, prevalence, sizeprev, clump=0):\n",
    "        self.nCol = 0     #number of colonies\n",
    "        self.reefdim = reefdim\n",
    "        self.xreef = reefdim[0]   #length of reef in x direction (50m)\n",
    "        self.yreef = reefdim[1]   #length of reef in y direction (10m)\n",
    "        self.SFD = SFD\n",
    "        self.SFDmu = SFD[0]   #mean of log(size) freq distribution of colonies (i.e., mean of log(diam/2))\n",
    "        self.SFDsig = SFD[1] #sd of log(size) freq distribution of colonies (i.e., sd of log(diam/2))\n",
    "        self.clump = clump   #clumpiness parameter (TBD)\n",
    "        self.prevalence = prevalence #prob that a generated colony is diseased (or slope of prev v size)\n",
    "        self.sizeprev = False  #if sizeprev is true, then prevalence is the slope of prev v diam(m)\n",
    "        self.corals = []     #list of corals on this landscape\n",
    "        \n",
    "    def PredictCover(self, nc):\n",
    "        maxS=7\n",
    "        triesS=0\n",
    "        while (maxS>=7) & (triesS < 10000):\n",
    "            sizes = np.random.lognormal(self.SFDmu,self.SFDsig,nc)\n",
    "            maxS= max(sizes)\n",
    "            triesS += 1\n",
    "        pcover = sum(np.pi*(sizes/2.)**2)/(self.xreef*self.yreef)\n",
    "        return float(pcover)\n",
    "    \n",
    "    def PercentCover(self):\n",
    "        s = self.AttrList(\"diameter\")\n",
    "        pcover = sum(np.pi*(s/2.)**2)/(self.xreef*self.yreef)\n",
    "        return float(pcover)\n",
    "    \n",
    "    def PopPrevalence(self):\n",
    "        d=0\n",
    "        for i in range(self.nCol):\n",
    "            if self.corals[i].disease==1:\n",
    "                d += 1\n",
    "        popprev = d/float(self.nCol)\n",
    "        return popprev    \n",
    "      \n",
    "    def GenerateColonies(self, nc, counts=False, plot=0):\n",
    "        start = time.clock()\n",
    "        maxS=7\n",
    "        triesS = 0\n",
    "        #get a list nc coral sizes with max size lt 7m; abort if fail after 10000 tries \n",
    "        while (maxS>=7) & (triesS < 10000):\n",
    "            sizes = -np.sort(-np.random.lognormal(self.SFDmu,self.SFDsig,nc))\n",
    "            maxS= sizes[0]\n",
    "            triesS += 1\n",
    "        if (triesS == 10000):\n",
    "            print \"Reached 10000 SFD draws\"    \n",
    "            return \n",
    "        #generate a prob(dis==1) for each colony (equal if sizeprev==False, or size-dependent if sizeprev==True)\n",
    "        if self.sizeprev==False:\n",
    "            prev = np.repeat(self.prevalence,nc)\n",
    "        if self.sizeprev==True:\n",
    "            #prevalence increases linearly with size at rate self.prevalence; max is 0.99, min is 0\n",
    "            prev = np.maximum(np.minimum(sizes*self.prevalence,0.99),0)\n",
    "        if plot>0:\n",
    "            nplot = np.floor(nc/plot)\n",
    "        j = 0\n",
    "        ct_rng = 0   #counter that increments for every random number generation\n",
    "        ct_comp = 0  #counter that increments on every distance comparison\n",
    "        rng = []\n",
    "        comp = []\n",
    "        while j <= (nc - 1):\n",
    "            #get random location between x= (0,xreef), and y = 0, yreef)\n",
    "            x_temp = np.random.uniform(low=0,high=self.xreef)  \n",
    "            y_temp = np.random.uniform(low=0,high=self.yreef)\n",
    "            ct_rng += 1  #increment counter each time a random location is generated\n",
    "            i = 0\n",
    "            overlap = 0\n",
    "            while (i < j) & (overlap == 0):\n",
    "                d = m.sqrt((self.corals[i].x - x_temp)**2 + (self.corals[i].y - y_temp)**2)\n",
    "                if d < (sizes[j]/2 + self.corals[i].diameter/2):\n",
    "                    overlap = 1\n",
    "                i += 1\n",
    "                ct_comp += 1  \n",
    "            if overlap == 0:\n",
    "                dis = np.random.binomial(1,prev[j])\n",
    "                self.corals.append(Coral(sizes[j],dis,[x_temp,y_temp]))\n",
    "                j += 1\n",
    "                self.nCol = j\n",
    "                if plot > 0:\n",
    "                    if j%nplot == 0:\n",
    "                        self.PlotLandscape() \n",
    "                rng.append(ct_rng)\n",
    "                comp.append(ct_comp)\n",
    "                ct_rng = 0 #reset counter for each new colony\n",
    "                ct_comp = 0 #reset counter for each new colony\n",
    "            if (ct_rng + 1)%1000000 ==0:\n",
    "                print \"ct_rng = \" + str(ct_rng) + \", j = \", str(j)\n",
    "            if ct_rng > self.nCol**3:\n",
    "                print([\"Stopped trying to place the \", j+1,\"th colony after \",ct_rng,\" iterations\"])\n",
    "                break\n",
    "        \n",
    "        if counts is True:\n",
    "            gentime = time.clock() - start\n",
    "            print \"{:.2f}\".format(gentime) + \" seconds to complete colony generation\"\n",
    "            print \"Number of SFD draws is \" + \"{}\".format(triesS)\n",
    "            print \"Predicted Cover is \" + \"{:.2f}\".format(self.PredictCover(nc)*100) +\"%\"\n",
    "            print \"Percent Cover is \" + \"{:.2f}\".format(self.PercentCover()*100) +\"%\"\n",
    "            print \"Population prevalence is \" + \"{:.4f}\".format(self.PopPrevalence)\n",
    "            plt.figure()\n",
    "            plt.hist(self.AttrList(\"diameter\"),30)\n",
    "            #plt.figure()\n",
    "            #plt.plot(rng)\n",
    "            #plt.xlabel('Colony Num')\n",
    "            #plt.ylabel('Number of Points generated before success')\n",
    "            #plt.figure()\n",
    "            #plt.plot(comp)\n",
    "            #plt.xlabel('Colony Num')\n",
    "            #plt.ylabel('Number of Distance Comparisons made before success')            \n",
    "            \n",
    "    \n",
    "    def PlotLandscape(self, transect=\"none\",**kwargs):\n",
    "        from matplotlib.patches import Rectangle\n",
    "        x = self.AttrList(\"x\")\n",
    "        y = self.AttrList(\"y\")\n",
    "        r = self.AttrList(\"diameter\")/2.\n",
    "        dis = self.AttrList(\"disease\")\n",
    "        disclr = []\n",
    "        for i in range(self.nCol):\n",
    "            if dis[i] == 1: \n",
    "                disclr.append(\"r\")\n",
    "            if dis[i] == 0:\n",
    "                disclr.append(\"b\")\n",
    "        minorLocatorx = mpl.ticker.FixedLocator(range(0,self.xreef+1,1)) #for grid\n",
    "        minorLocatory = mpl.ticker.FixedLocator(range(0,self.yreef+1,1))\n",
    "        h=plt.figure(figsize = [3*self.xreef/self.yreef,3])\n",
    "        ax = plt.gca()\n",
    "        circles(x,y,r, edgecolor = disclr, facecolor='none')\n",
    "        plt.title(str(self.nCol) + \" colonies drawn from logNorm(\" + str(self.SFDmu) + \",\" + str(self.SFDsig) +\n",
    "                  \") and prev = \" + str(self.prevalence))\n",
    "        plt.xlim([0,self.xreef])\n",
    "        plt.ylim([0,self.yreef])\n",
    "        ax.xaxis.set_minor_locator(minorLocatorx)\n",
    "        ax.yaxis.set_minor_locator(minorLocatory)\n",
    "        plt.grid(b=True,which='both',axis='both')\n",
    "        if transect == \"BT\":\n",
    "            ax.add_patch(Rectangle([kwargs['stpt'][0],kwargs['stpt'][1] - kwargs['width']/2.],\n",
    "                                   kwargs['length'],kwargs['width'], ec='b',fc='none', lw=2.))\n",
    "            ax.text(self.xreef*.75,self.yreef*.75,\n",
    "                    \"Counted: \" + str(kwargs['ctcols']) + \"\\nDiseased: \" + str(kwargs['ctdis']),\n",
    "                    bbox={'facecolor':'white'})\n",
    "        if transect == \"ET\":\n",
    "            ax.add_patch(Rectangle([kwargs['stpt'][0],kwargs['stpt'][1] - kwargs['ccwidth']/2.],\n",
    "                                   kwargs['cclength'],kwargs['ccwidth'],ec='b',fc = 'none', lw=2.))\n",
    "            ax.add_patch(Rectangle([kwargs['stpt'][0],kwargs['stpt'][1] - kwargs['dcwidth']/2.],\n",
    "                                   kwargs['dclength'],kwargs['dcwidth'],ec='r', fc = 'none', lw=2.))\n",
    "            ax.text(self.xreef*.75,self.yreef*.75,\n",
    "                    \"Est Count: \" + str(kwargs['estcols']) + \"\\nDisease Count: \" + str(kwargs['ctdis']),\n",
    "                    bbox={'facecolor':'white'})\n",
    "        if transect == \"LI\":\n",
    "            plt.plot([kwargs['stpt'][0],kwargs['stpt'][0]+kwargs['length']],[kwargs['stpt'][1],kwargs['stpt'][1]], \n",
    "                     color='b', linestyle='-', linewidth=2)  \n",
    "            ax.text(self.xreef*.75,self.yreef*.75,\n",
    "                    \"All Count: \" + str(kwargs['ctcols']) + \"\\nDisease Count: \" + str(kwargs['ctdis']),\n",
    "                    bbox={'facecolor':'white'})\n",
    "\n",
    "    def PlotSFD(self):\n",
    "        d = self.AttrList(\"diameter\")\n",
    "        muhat = np.mean(np.log(d))\n",
    "        sighat = np.std(np.log(d))\n",
    "        plt.figure()\n",
    "        plt.hist(d,30)\n",
    "        plt.xlabel('Colony Diameter (m)')\n",
    "        plt.title([\"SFD drawn from: logN(\" + str(self.SFDmu) + \",\" + str(self.SFDsig) + \")\",\n",
    "                   \"(mu,sig)-hat = \" + \"{:.2f}\".format(muhat) + \",\",\"{:.2f}\".format(sighat)])\n",
    "        plt.figure()\n",
    "        plt.hist(np.log(d),30)\n",
    "        plt.xlabel('Log Colony Diameter (m)')\n",
    "        plt.title([\"SFD: logN(\" + str(self.SFDmu) + \",\" + str(self.SFDsig) + \n",
    "                   \"), (mu,sig)-hat = \" + \"{:.2f}\".format(muhat) + \",\",\"{:.2f}\".format(sighat)])\n",
    "        \n",
    "\n",
    "    def BandTransect(self,stpt,length,width,plot=False): \n",
    "        if ((stpt[0] + length > self.xreef) | (stpt[1] + width/2. > self.yreef) | (stpt[1] - width/2. < 0)):\n",
    "            return(\"Transect doesn't fit in landscape\")\n",
    "        if self.nCol ==0:\n",
    "            return(\"No colonies on transect\")\n",
    "        ctcols=0\n",
    "        #ctcols2=0\n",
    "        ctdis=0\n",
    "        for i in range(self.nCol):\n",
    "            #want this to count only colonies >50% inside transect\n",
    "            #first two lines include all colonies with stpt in transect\n",
    "            #second two lines exclude colonies with stpt within 1/4*diameter of the corner\n",
    "            #which (appoximately) excludes those with less than 1/2 area in the corners\n",
    "            #this condition includes all colonies with x,y in the transect (overcounts corals in corners)\n",
    "            x = self.corals[i].x\n",
    "            y = self.corals[i].y\n",
    "            r = self.corals[i].diameter/2\n",
    "            inband = ((stpt[0] < x < stpt[0] + length)  \n",
    "                    & (stpt[1] - width/2. < y < stpt[1] + width/2.))\n",
    "            #this condition excludes corals with x,y within 1/4diameter of corners (approx correct)\n",
    "            #inband2 = (((stpt[0] < x < stpt[0] + length)\n",
    "            #           & (stpt[1] - width/2. + r/4. < y < stpt[1] + width/2. - r/4.))\n",
    "            #          |((stpt[0] + r/4. < x < stpt[0] + length - r/4.)\n",
    "            #           &(stpt[1] - width/2. < y < stpt[1] + width/2.)))\n",
    "            if inband: \n",
    "                ctcols += 1\n",
    "                if self.corals[i].disease == 1:\n",
    "                    ctdis += 1\n",
    "            #if inband2: \n",
    "            #    ctcols2 += 1\n",
    "        if plot == True:\n",
    "            self.PlotLandscape(transect=\"BT\",stpt=stpt, length=length,width=width,ctcols=ctcols,ctdis=ctdis)\n",
    "        #print \"With corners, count1 = \" + \"{}\".format(ctcols)\n",
    "        #print \"Without corners, count2 = \" + \"{}\".format(ctcols2)\n",
    "        return(ctcols, ctdis)\n",
    "                                   \n",
    "    def EstTransect(self,stpt,cclength,ccwidth,dclength,dcwidth,plot=False):\n",
    "        # start point tuple, cc_length = coral count length, cc_width = coral count width\n",
    "        # dc_length = disease count length, dc_width = disease count width\n",
    "        if ((stpt[0] + cclength > self.xreef) | (stpt[1] + ccwidth/2. > self.yreef) | (stpt[1] - ccwidth/2. < 0) | \\\n",
    "            (stpt[0] + dclength > self.xreef) | (stpt[1] + dcwidth/2. > self.yreef) | (stpt[1] - dcwidth/2. < 0)):\n",
    "            return(\"Transect doesn't fit in landscape\")\n",
    "        if self.nCol ==0:\n",
    "            return(\"No colonies in landscape\")\n",
    "        ctcols=0\n",
    "        ctdis=0\n",
    "        for i in range(self.nCol):\n",
    "            #want this to count only colonies >50% inside transect - ignore\n",
    "            inCCband = ((stpt[0] < self.corals[i].x < stpt[0] + cclength) \\\n",
    "                     & (stpt[1] - ccwidth/2. < self.corals[i].y < stpt[1] + ccwidth/2.))\n",
    "            inDCband = ((stpt[0] < self.corals[i].x < stpt[0] + dclength) \\\n",
    "                     & (stpt[1] - dcwidth/2. < self.corals[i].y < stpt[1] + dcwidth/2.))\n",
    "            if inCCband:\n",
    "                ctcols += 1\n",
    "            if inDCband & self.corals[i].disease == 1:\n",
    "                ctdis += 1\n",
    "        #estimate number of cols in disease count area: coral count in a * (A/a)CC*(dcwidth*dclength)/(ccwidth*cclength)\n",
    "        estcols = ctcols*(dclength*dcwidth)/(cclength*ccwidth)\n",
    "        if plot == True:\n",
    "            self.PlotLandscape(transect = \"ET\",stpt=stpt, cclength=cclength, ccwidth=ccwidth,\n",
    "                               dclength=dclength, dcwidth=dcwidth, estcols=estcols,ctdis=ctdis)\n",
    "        return(estcols, ctdis)\n",
    "                                   \n",
    "    def LineIntercept(self, stpt, length, plot=False): \n",
    "        if (stpt[0] + length > self.xreef):\n",
    "            return(\"Transect doesn't fit in landscape\")\n",
    "        if self.nCol ==0:\n",
    "            return(\"No colonies in landscape\")\n",
    "        ctcols = 0\n",
    "        ctdis = 0\n",
    "        for i in range(self.nCol):\n",
    "            x_nearest = self.corals[i].x\n",
    "            if self.corals[i].x > stpt[0] + length:\n",
    "                x_nearest= stpt[0] + length\n",
    "            elif self.corals[i].x < stpt[0]:\n",
    "                x_nearest = stpt[0]\n",
    "            ontransect = (m.sqrt((self.corals[i].y - stpt[1])**2) + (self.corals[i].x - x_nearest)**2) < self.corals[i].diameter/2.\n",
    "            if ontransect:\n",
    "                ctcols += 1\n",
    "                if self.corals[i].disease == 1:\n",
    "                    ctdis += 1\n",
    "        if plot == True:\n",
    "            self.PlotLandscape(transect = \"LI\",stpt=stpt, length=length, ctcols=ctcols,ctdis=ctdis)\n",
    "        return(ctcols,ctdis)\n",
    "    \n",
    "    def AttrList(self,attr):\n",
    "        \"\"\"return list of attribute (attr) from all corals on landscape\"\"\"       \n",
    "        if self.nCol ==0:\n",
    "            print \"No corals on landscape\"\n",
    "            a = 0\n",
    "            return a\n",
    "        if attr in [\"diameter\", \"x\", \"y\"]:\n",
    "            a = np.empty([self.nCol,1],dtype=float)\n",
    "        if attr is \"disease\":\n",
    "            a = np.empty([self.nCol,1],dtype=int)\n",
    "        for i in range(self.nCol):\n",
    "            a[i] = getattr(self.corals[i],attr)\n",
    "        return a\n",
    "        \n",
    "class SimLandscapes(object):\n",
    "    \"\"\"SimLandscapes(nLS,reefdim,SFD,prevalence,clump=0,infile) creates a set of landscapes with these characteristics\n",
    "    reefdim: length,width of LS \n",
    "    SFD: lognormal size freq dist parameters\n",
    "    prevalence\n",
    "    clump\n",
    "    \n",
    "    Has functions to generate nLS landscapes and analyze/output landscapes\n",
    "    \"\"\"\n",
    "    \n",
    "    def __init__(self, nCol, reefdim, SFD, prevalence, clump=0):\n",
    "        self.nCol = nCol  #number of colonies on the landscape\n",
    "        self.reefdim = reefdim  #dimension of landscape in meters\n",
    "        self.SFD = SFD   #mean and sd (in meters) of log-normal dist of colony diameter\n",
    "        self.prevalence = prevalence #prob that a generated colony is diseased\n",
    "        self.clump = clump   #clumpiness parameter (TBD)\n",
    "        self.landscapes = []     #list of landscapes in this simulations\n",
    "        self.nLS = 0\n",
    "\n",
    "    def GenerateSims(self,nLS):\n",
    "        self.nLS = nLS\n",
    "        for i in range(nLS):\n",
    "            self.landscapes.append(Landscape(self.reefdim,self.SFD,self.prevalence,self.clump))\n",
    "            self.landscapes[i].GenerateColonies(self.nCol)\n",
    "             \n",
    "    def SampleSims(self, transect = \"none\", **kwargs):\n",
    "        if transect == \"none\":\n",
    "            print \"Specify the type of transect for these sims\"\n",
    "        ctcols = []\n",
    "        ctdis = []\n",
    "        for i in range(self.nLS):           \n",
    "            if transect== \"BT\":\n",
    "                a = self.landscapes[i].BandTransect(kwargs['stpt'],kwargs['length'],kwargs['width'])\n",
    "                ctcols.append(a[0])\n",
    "                ctdis.append(a[1])\n",
    "            if transect== \"ET\":\n",
    "                a = self.landscapes[i].EstTransect(kwargs['stpt'],kwargs['cclength'],kwargs['ccwidth'],kwargs['dclength'],kwargs['dcwidth'])\n",
    "                ctcols.append(a[0])\n",
    "                ctdis.append(a[1])\n",
    "            if transect== \"LI\":\n",
    "                a = self.landscapes[i].LineIntercept(kwargs['stpt'],kwargs['length'])\n",
    "                ctcols.append(a[0])\n",
    "                ctdis.append(a[1])\n",
    "        return (ctcols,ctdis)                \n",
    "    \n",
    "    def OutputSims(self, transects=[\"BT\",\"ET\",\"LI\"],BTstpt=[5,5],BTlength=25,BTwidth=2,\n",
    "                         ETstpt=[5,5],ETcclength=5,ETccwidth=2,ETdclength=25,ETdcwidth=10,\n",
    "                         LIstpt=[5,5],LIlength=25,outfile = \"SimsOut.txt\", rwcode = 'wb'):\n",
    "        if \"BT\" in transects:\n",
    "            [BTctcols,BTctdis] = self.SampleSims(transect = \"BT\",stpt = BTstpt, length=BTlength,width=BTwidth)\n",
    "        if \"ET\" in transects:\n",
    "            [ETctcols,ETctdis] = self.SampleSims(transect = \"ET\",stpt = ETstpt, cclength=ETcclength,ccwidth=ETccwidth,dclength=ETdclength,dcwidth=ETdcwidth)\n",
    "        if \"LI\" in transects:\n",
    "            [LIctcols,LIctdis] = self.SampleSims(transect = \"LI\",stpt = LIstpt, length=LIlength)\n",
    "\n",
    "        with open('SimsOut.csv',rwcode) as fout:\n",
    "            fwriter = csv.writer(fout, quoting = csv.QUOTE_NONE,escapechar='\\\\')\n",
    "            fwriter.writerow([\"nCol\",\"PercentCover\",\"xreef\",\"yreef\",\"SFDmu\",\"SFDsig\",\"prevalence\",\"SizeDepPrev?\",\"PoplnPrevalence\",\n",
    "                                  \"BTstptx\",\"BTstpty\",\"BTlength\",\"BTwidth\",\"BTctcols\",\"BTctdis\",\n",
    "                                  \"ETstptx\",\"ETstpty\",\"ETcclength\",\"ETccwidth\",\"ETdclength\",\"ETdcwidth\",\"ETctcols\",\"ETctdis\",\n",
    "                                  \"LIstptx\",\"LIstpty\",\"LIlength\",\"LIctcols\",\"LIctdis\"])\n",
    "            for i in range(self.nLS):\n",
    "                fwriter.writerow([self.landscapes[i].nCol, '{:0.5f}'.format(self.landscapes[i].PercentCover()),\n",
    "                                  self.landscapes[i].xreef, self.landscapes[i].yreef,\n",
    "                                  self.landscapes[i].SFDmu, self.landscapes[i].SFDsig,\n",
    "                                  self.landscapes[i].prevalence,self.landscapes[i],sizeprev,self.landscapes[i].PopPrevalence(),\n",
    "                                  BTstpt[0],BTstpt[1],BTlength,BTwidth,BTctcols[i],BTctdis[i],\n",
    "                                  ETstpt[0],ETstpt[1],ETcclength,ETccwidth,ETdclength,ETdcwidth,ETctcols[i],ETctdis[i],\n",
    "                                  LIstpt[0],LIstpt[1],LIlength,LIctcols[i],LIctdis[i]])"
   ]
  },
  {
   "cell_type": "code",
   "execution_count": 344,
   "metadata": {
    "collapsed": false
   },
   "outputs": [],
   "source": [
    "#How many colonies do I need to generate for a given percent cover?\n",
    "SFD = [[-3.5,1.8],[-1.5,0.2],[-0.8,0.8]]\n",
    "ncs = [500,1250,2500,5000,7500]\n",
    "reps = 20\n",
    "reefdim=[50,15]\n",
    "predict = np.empty(shape=(len(SFD),len(ncs),reps))\n",
    "for i in range(len(SFD)):\n",
    "    for j in range(len(ncs)): \n",
    "        n=0\n",
    "        while (n<reps):\n",
    "            L = Landscape(reefdim,SFD[i],0,False)       \n",
    "            p = L.PredictCover(ncs[j])\n",
    "            if p>0:\n",
    "                predict[i][j][n] =p\n",
    "                n +=1\n",
    "       "
   ]
  },
  {
   "cell_type": "code",
   "execution_count": 362,
   "metadata": {
    "collapsed": false
   },
   "outputs": [
    {
     "name": "stdout",
     "output_type": "stream",
     "text": [
      "SFD= [-3.5, 1.8] nc= 500 meanPC= 0.09 0.04\n",
      "SFD= [-3.5, 1.8] nc= 1250 meanPC= 0.22 0.05\n",
      "SFD= [-3.5, 1.8] nc= 2500 meanPC= 0.42 0.08\n",
      "SFD= [-3.5, 1.8] nc= 5000 meanPC= 0.85 0.10\n",
      "SFD= [-3.5, 1.8] nc= 7500 meanPC= 3.85 5.39\n",
      "SFD= [-1.5, 0.2] nc= 500 meanPC= 0.03 0.00\n",
      "SFD= [-1.5, 0.2] nc= 1250 meanPC= 0.07 0.00\n",
      "SFD= [-1.5, 0.2] nc= 2500 meanPC= 0.14 0.00\n",
      "SFD= [-1.5, 0.2] nc= 5000 meanPC= 0.28 0.00\n",
      "SFD= [-1.5, 0.2] nc= 7500 meanPC= 0.42 0.00\n",
      "SFD= [-0.8, 0.8] nc= 500 meanPC= 0.38 0.05\n",
      "SFD= [-0.8, 0.8] nc= 1250 meanPC= 0.91 0.06\n",
      "SFD= [-0.8, 0.8] nc= 2500 meanPC= 1.86 0.08\n",
      "SFD= [-0.8, 0.8] nc= 5000 meanPC= 3.65 0.14\n",
      "SFD= [-0.8, 0.8] nc= 7500 meanPC= 5.55 0.15\n"
     ]
    },
    {
     "data": {
      "text/plain": [
       "<matplotlib.figure.Figure at 0x16bfe860>"
      ]
     },
     "metadata": {},
     "output_type": "display_data"
    },
    {
     "data": {
      "text/plain": [
       "<matplotlib.figure.Figure at 0x1a0ab630>"
      ]
     },
     "metadata": {},
     "output_type": "display_data"
    },
    {
     "data": {
      "text/plain": [
       "<matplotlib.figure.Figure at 0x17e35e80>"
      ]
     },
     "metadata": {},
     "output_type": "display_data"
    },
    {
     "data": {
      "text/plain": [
       "<matplotlib.figure.Figure at 0x1afe3128>"
      ]
     },
     "metadata": {},
     "output_type": "display_data"
    },
    {
     "data": {
      "text/plain": [
       "<matplotlib.figure.Figure at 0x1a3e5908>"
      ]
     },
     "metadata": {},
     "output_type": "display_data"
    },
    {
     "data": {
      "text/plain": [
       "<matplotlib.figure.Figure at 0x183c38d0>"
      ]
     },
     "metadata": {},
     "output_type": "display_data"
    },
    {
     "data": {
      "text/plain": [
       "<matplotlib.figure.Figure at 0x17dc4b00>"
      ]
     },
     "metadata": {},
     "output_type": "display_data"
    },
    {
     "data": {
      "text/plain": [
       "<matplotlib.figure.Figure at 0x17dc4da0>"
      ]
     },
     "metadata": {},
     "output_type": "display_data"
    },
    {
     "data": {
      "text/plain": [
       "<matplotlib.figure.Figure at 0x17dc4400>"
      ]
     },
     "metadata": {},
     "output_type": "display_data"
    },
    {
     "data": {
      "text/plain": [
       "<matplotlib.figure.Figure at 0x16967d68>"
      ]
     },
     "metadata": {},
     "output_type": "display_data"
    },
    {
     "data": {
      "text/plain": [
       "<matplotlib.figure.Figure at 0x17dc9a90>"
      ]
     },
     "metadata": {},
     "output_type": "display_data"
    },
    {
     "data": {
      "text/plain": [
       "<matplotlib.figure.Figure at 0x17dc94a8>"
      ]
     },
     "metadata": {},
     "output_type": "display_data"
    },
    {
     "data": {
      "text/plain": [
       "<matplotlib.figure.Figure at 0x17dc9f60>"
      ]
     },
     "metadata": {},
     "output_type": "display_data"
    },
    {
     "data": {
      "text/plain": [
       "<matplotlib.figure.Figure at 0x16464128>"
      ]
     },
     "metadata": {},
     "output_type": "display_data"
    },
    {
     "data": {
      "text/plain": [
       "<matplotlib.figure.Figure at 0x16a3cc50>"
      ]
     },
     "metadata": {},
     "output_type": "display_data"
    }
   ],
   "source": [
    "for i in range(len(SFD)):\n",
    "    for j in range(len(ncs)): \n",
    "        plt.figure()\n",
    "        #plt.hist(predict[i][j])\n",
    "        print \"SFD=\",SFD[i],\"nc=\",ncs[j],\"mean&std %C=\",\"{:.2f}\".format(np.mean(predict[i][j])),\"{:.2f}\".format(np.std(predict[i][j]))\n"
   ]
  },
  {
   "cell_type": "code",
   "execution_count": 343,
   "metadata": {
    "collapsed": false
   },
   "outputs": [
    {
     "name": "stdout",
     "output_type": "stream",
     "text": [
      "3.0\n",
      "0.0772437445685\n"
     ]
    }
   ],
   "source": [
    "\n",
    "\n",
    "#print predict\n",
    "#print SFD\n",
    "#print reefdim\n",
    "#for i in range(len(SFD)):\n",
    "#    L01 = Landscape(reefdim,SFD[i],0.4,True)\n",
    "#    L01.GenerateColonies(2500, counts = False, plot= 1)\n",
    "#    L01.PlotSFD\n"
   ]
  },
  {
   "cell_type": "code",
   "execution_count": null,
   "metadata": {
    "collapsed": false
   },
   "outputs": [],
   "source": [
    "L01 = Landscape([50,10],[-1.5,0.2],0.4,True)\n",
    "L01.GenerateColonies(20000, counts = False, plot= 1)\n",
    "[a,b]= L01.BandTransect([5,5],25,2,plot=False)\n",
    "print a, b\n",
    "print L01.EstTransect([5,5],10,1,25,4,plot=False)\n",
    "print L01.LineIntercept([5,5],25,plot=False)\n",
    "print L01.PopPrevalence()\n",
    "print L01.PercentCover()\n",
    "L01.PlotSFD()\n"
   ]
  },
  {
   "cell_type": "code",
   "execution_count": 302,
   "metadata": {
    "collapsed": false
   },
   "outputs": [
    {
     "name": "stdout",
     "output_type": "stream",
     "text": [
      "SFD= [-3.5, 1.8] nc= 500 area= 383.58\n",
      "SFD= [-3.5, 1.8] nc= 1250 area= inf\n",
      "SFD= [-3.5, 1.8] nc= 2500 area= inf\n",
      "SFD= [-3.5, 1.8] nc= 5000 area= 0.00\n",
      "SFD= [-3.5, 1.8] nc= 7500 area= inf\n",
      "SFD= [-3.5, 1.8] nc= 10000 area= inf\n",
      "SFD= [-1.5, 0.2] nc= 500 area= inf\n",
      "SFD= [-1.5, 0.2] nc= 1250 area= inf\n",
      "SFD= [-1.5, 0.2] nc= 2500 area= 0.00\n",
      "SFD= [-1.5, 0.2] nc= 5000 area= inf\n",
      "SFD= [-1.5, 0.2] nc= 7500 area= 0.00\n",
      "SFD= [-1.5, 0.2] nc= 10000 area= inf\n",
      "SFD= [-0.8, 0.8] nc= 500 area= inf\n",
      "SFD= [-0.8, 0.8] nc= 1250 area= inf\n",
      "SFD= [-0.8, 0.8] nc= 2500 area= inf\n",
      "SFD= [-0.8, 0.8] nc= 5000 area= 0.00\n",
      "SFD= [-0.8, 0.8] nc= 7500 area= 0.00\n",
      "SFD= [-0.8, 0.8] nc= 10000 area= inf\n"
     ]
    },
    {
     "name": "stderr",
     "output_type": "stream",
     "text": [
      "C:\\Program Files\\Anaconda2\\lib\\site-packages\\ipykernel\\__main__.py:6: RuntimeWarning: overflow encountered in square\n"
     ]
    }
   ],
   "source": [
    "SFD = [[-3.5,1.8],[-1.5,0.2],[-0.8,0.8]]\n",
    "ncs = [500,1250,2500,5000,7500, 10000]\n",
    "for i in range(3):\n",
    "    for j in range(len(ncs)):\n",
    "        d = np.random.lognormal(SFD[i],ncs[j])\n",
    "        print \"SFD=\",SFD[i],\"nc=\",ncs[j],\"area=\",\"{:.2f}\".format(sum(np.pi*(d/2)**2))"
   ]
  },
  {
   "cell_type": "code",
   "execution_count": 126,
   "metadata": {
    "collapsed": false
   },
   "outputs": [],
   "source": [
    "S = SimLandscapes(nCol=100,reefdim=[50,10],SFD=[-1,0.5],prevalence=0.2)\n",
    "S.GenerateSims(50)\n",
    "S.OutputSims()\n",
    "\n"
   ]
  },
  {
   "cell_type": "code",
   "execution_count": 5,
   "metadata": {
    "collapsed": false
   },
   "outputs": [
    {
     "name": "stdout",
     "output_type": "stream",
     "text": [
      "0\n",
      "Healthy\n",
      "3.21\n",
      "4.445\n",
      "Define a coral colony as a circle with a diameter, disease state, and x,y location\n"
     ]
    }
   ],
   "source": [
    "#Test Coral object\n",
    "c01 = Coral(14,0,[3.21,4.445])\n",
    "print c01.disease\n",
    "c01.IsDiseased()\n",
    "print c01.x\n",
    "print c01.y\n",
    "print c01.__doc__"
   ]
  },
  {
   "cell_type": "code",
   "execution_count": 279,
   "metadata": {
    "collapsed": false
   },
   "outputs": [
    {
     "data": {
      "text/plain": [
       "<matplotlib.text.Text at 0x15b30c50>"
      ]
     },
     "execution_count": 279,
     "metadata": {},
     "output_type": "execute_result"
    },
    {
     "data": {
      "image/png": "[encoded data removed]",
      "text/plain": [
       "<matplotlib.figure.Figure at 0x125efeb8>"
      ]
     },
     "metadata": {},
     "output_type": "display_data"
    },
    {
     "data": {
      "image/png": "[encoded data removed]",
      "text/plain": [
       "<matplotlib.figure.Figure at 0x16239eb8>"
      ]
     },
     "metadata": {},
     "output_type": "display_data"
    },
    {
     "data": {
      "image/png": "[encoded data removed]",
      "text/plain": [
       "<matplotlib.figure.Figure at 0x16505f60>"
      ]
     },
     "metadata": {},
     "output_type": "display_data"
    }
   ],
   "source": [
    "lnx1 = np.random.normal(-3.5,1.8,1000)\n",
    "x1 = np.exp(lnx1)\n",
    "x1gt1 = (sum(np.pi*x1[x1<7]**2) - sum(np.pi*(x1[x1<1])**2))/sum(np.pi*(x1[x1<7]**2))\n",
    "\n",
    "lnx2 = np.random.normal(-1.5,0.2,1000)\n",
    "x2 = np.exp(lnx2)\n",
    "x2gt1 = (sum(np.pi*x2[x2<7]**2) - sum(np.pi*(x2[x2<1])**2))/sum(np.pi*(x2[x2<7]**2))\n",
    "\n",
    "lnx3 = np.random.normal(-0.8,0.8,1000)\n",
    "x3 = np.exp(lnx3)\n",
    "x3gt1 = (sum(np.pi*x3[x3<7]**2) - sum(np.pi*(x3[x3<1])**2))/sum(np.pi*(x3[x3<7]**2))\n",
    "\n",
    "plt.figure()\n",
    "plt.hist(x1,50)\n",
    "plt.xlim([0,3])\n",
    "plt.title(\"mean x1 is \" + \"{:.2f}\".format(np.mean(x1)) + \", proportion of cover from colonies >1m is \" + \"{:.2f}\".format(x1gt1))\n",
    "\n",
    "plt.figure()\n",
    "plt.hist(x2,50)\n",
    "plt.xlim([0,3])\n",
    "plt.title(\"mean x2 is \" + \"{:.2f}\".format(np.mean(x2)) + \", proportion of cover from colonies >1m is \" + \"{:.2f}\".format(x2gt1))\n",
    "\n",
    "plt.figure()\n",
    "plt.hist(x3,50)\n",
    "plt.xlim([0,3])\n",
    "plt.title(\"mean x3 is \" + \"{:.2f}\".format(np.mean(x3)) + \", proportion of cover from colonies >1m is \" + \"{:.2f}\".format(x3gt1))\n"
   ]
  },
  {
   "cell_type": "code",
   "execution_count": 294,
   "metadata": {
    "collapsed": false,
    "scrolled": true
   },
   "outputs": [
    {
     "data": {
      "text/plain": [
       "(array([ 360.,  263.,  129.,   68.,   57.,   28.,   15.,   12.,   14.,\n",
       "           8.,    6.,    6.,   10.,    3.,    6.,    2.,    2.,    2.,\n",
       "           1.,    0.,    1.,    0.,    0.,    1.,    0.,    0.,    1.,\n",
       "           1.,    0.,    1.,    0.,    1.,    0.,    0.,    0.,    0.,\n",
       "           1.,    0.,    0.,    0.,    0.,    0.,    0.,    0.,    0.,\n",
       "           0.,    0.,    0.,    0.,    1.]),\n",
       " array([  1.13357426e-03,   7.52095520e-02,   1.49285530e-01,\n",
       "          2.23361507e-01,   2.97437485e-01,   3.71513463e-01,\n",
       "          4.45589441e-01,   5.19665418e-01,   5.93741396e-01,\n",
       "          6.67817374e-01,   7.41893352e-01,   8.15969329e-01,\n",
       "          8.90045307e-01,   9.64121285e-01,   1.03819726e+00,\n",
       "          1.11227324e+00,   1.18634922e+00,   1.26042520e+00,\n",
       "          1.33450117e+00,   1.40857715e+00,   1.48265313e+00,\n",
       "          1.55672911e+00,   1.63080508e+00,   1.70488106e+00,\n",
       "          1.77895704e+00,   1.85303302e+00,   1.92710900e+00,\n",
       "          2.00118497e+00,   2.07526095e+00,   2.14933693e+00,\n",
       "          2.22341291e+00,   2.29748888e+00,   2.37156486e+00,\n",
       "          2.44564084e+00,   2.51971682e+00,   2.59379279e+00,\n",
       "          2.66786877e+00,   2.74194475e+00,   2.81602073e+00,\n",
       "          2.89009671e+00,   2.96417268e+00,   3.03824866e+00,\n",
       "          3.11232464e+00,   3.18640062e+00,   3.26047659e+00,\n",
       "          3.33455257e+00,   3.40862855e+00,   3.48270453e+00,\n",
       "          3.55678051e+00,   3.63085648e+00,   3.70493246e+00]),\n",
       " <a list of 50 Patch objects>)"
      ]
     },
     "execution_count": 294,
     "metadata": {},
     "output_type": "execute_result"
    },
    {
     "data": {
      "image/png": "[encoded data removed]",
      "text/plain": [
       "<matplotlib.figure.Figure at 0x16f00860>"
      ]
     },
     "metadata": {},
     "output_type": "display_data"
    }
   ],
   "source": [
    "#L01 = Landscape([50,10],[-2.25,1.1],0.4,sizeprev=True)\n",
    "#L01.GenerateColonies(500, counts = False, plot= 1)\n",
    "#print L01.PercentCover()\n",
    "#L01.PlotSFD()\n",
    "\n",
    "x=np.random.lognormal(-2.25,1.1,1000)\n",
    "plt.figure()\n",
    "plt.hist(x,50)\n",
    " \n",
    "    "
   ]
  }
 ],
 "metadata": {
  "anaconda-cloud": {},
  "kernelspec": {
   "display_name": "Python [default]",
   "language": "python",
   "name": "python2"
  },
  "language_info": {
   "codemirror_mode": {
    "name": "ipython",
    "version": 2
   },
   "file_extension": ".py",
   "mimetype": "text/x-python",
   "name": "python",
   "nbconvert_exporter": "python",
   "pygments_lexer": "ipython2",
   "version": "2.7.12"
  }
 },
 "nbformat": 4,
 "nbformat_minor": 0
}
