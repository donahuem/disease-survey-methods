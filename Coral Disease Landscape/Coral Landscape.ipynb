{
 "metadata": {
<<<<<<< Updated upstream
  "name": "coral landscape.ipynb",
  "signature": "sha256:f8dfdaf098e9a88b440c10d19a0de2cf35039b3b695754a21e54b5388123b7ed"
=======
  "name": "",
  "signature": "sha256:40cbc09b12cc578340d20ba0d1b2efae3475eca53804ab256ef99255d07a3988"
>>>>>>> Stashed changes
 },
 "nbformat": 3,
 "nbformat_minor": 0,
 "worksheets": [
  {
   "cells": [
    {
     "cell_type": "raw",
     "metadata": {},
     "source": [
      "Data structure for coral sampling landscapes:\n",
      "\n",
      "Each landscape is an object of Landscape Class that has a set of properties, including\n",
      "    Length (defined as a default size)\n",
      "    Width (defines as a default width)\n",
      "    Number of Colonies\n",
      "    Clumpiness of Distribution\n",
      "    Characteristics of Size Frequency Distribution (e.g., two parameters of a lognormal distrib)\n",
      "    2 Methods:\n",
      "        GenerateColonies, which generates a list of objects of type Colony\n",
      "        BandTransect, which samples using a standard band transect method and returns # sampled colonies and # infected colonies\n",
      "    EstTransect, which returns area alpha sampled for colonies, #colonies in alpha, area A sampled for disease, #disease colonies in A\n",
      "    \n",
      "Each coral colony is an object of type Coral that has a set of properties, including\n",
      "    Size\n",
      "    Disease State\n",
      "    X location in landscape\n",
      "    Y location in landscape\n",
      "\n",
      "- Switch to lognormal\n",
      "- in Landscape class \n",
      "def gencol\n",
      "from 1-ncol\n",
      "choose random size (from SFDa and b), random disease with disease probablity and coordinate\n",
      "call coral (size, disease, lat, long)\n",
      "\n",
      "Random coordinates:\n",
      "landscape.maxX\n",
      "landscape.maxY\n",
      "landscape.ncol\n",
      "\n",
      "to place corals in landscape by size (large first)\n",
      "generate a list of sizes (rnorm(SFDa,b)\n",
      "Rank order and # colonies based on size\n",
      "then place down in landscape in that order\n",
      "\n",
      "\n",
      "    "
     ]
    },
    {
     "cell_type": "code",
     "collapsed": false,
     "input": [
      "import math as m\n",
      "import numpy as np\n",
      "import scipy as sp\n",
      "import matplotlib as mpl\n",
      "import matplotlib.pyplot as plt\n",
      "import shapely.geometry"
     ],
     "language": "python",
     "metadata": {},
<<<<<<< Updated upstream
     "outputs": [],
     "prompt_number": 4
=======
     "outputs": []
>>>>>>> Stashed changes
    },
    {
     "cell_type": "code",
     "collapsed": false,
     "input": [
      "class Coral(object):\n",
      "    \"\"\"A class that makes corals with a size, disease state, and location\"\"\"\n",
      "    def __init__(self, diam, dis, x, y):\n",
      "        self.diam = diam\n",
      "        self.area = sp.pi*(diam/2.)**2.\n",
      "        self.dis = dis\n",
      "        self.x = x\n",
      "        self.y = y\n",
      "    \n",
      "    def is_dis(self):\n",
      "        if self.dis==1:\n",
      "            print \"Diseased\"\n",
      "        else:\n",
      "            print \"Healthy\"\n",
      "            \n",
<<<<<<< Updated upstream
      "c01 = Coral(14,0,3.21,4.445) #I removed 1, because __init__() only takes 5 arguments"
=======
      "c01 = Coral(14,False,3.21,4.445) "
>>>>>>> Stashed changes
     ],
     "language": "python",
     "metadata": {},
     "outputs": [],
<<<<<<< Updated upstream
     "prompt_number": 47
=======
     "prompt_number": 8
>>>>>>> Stashed changes
    },
    {
     "cell_type": "code",
     "collapsed": false,
     "input": [
      "class Landscape(object):\n",
      "    \"\"\"Inputs/Arguments: (Number of Colonies, SFD parameter 1, SFD parameter 2, Clumpiness Parameter)\"\"\"\n",
      "    \"\"\"A class that creates landscapes characterized by number of colonies N, size freq distribution, and clumpiness\"\"\"\n",
      "    \"\"\"Assume that the log(coral.area)~normal(mu,sigma), so that diam = 2*math.sqrt(math.exp(lognormal(mu.sigma))/math.pi)\"\"\"\n",
      "    \"\"\"Assign a fixed length and width for the landscape\"\"\"\n",
      "    \n",
      "    reef = [[0, 0], [0, 50], [10,50], [10,0]]\n",
      "\n",
      "    def __init__(self,nCol, SFDmu, SFDsig, prevalence, clump):\n",
      "        self.nCol = nCol\n",
      "        self.SFDmu = SFDmu\n",
      "        self.SFDsig = SFDsig\n",
      "        self.clump = clump\n",
      "        self.prevalence = prevalence\n",
      "        self.corals = []\n",
      "   \n",
      "    def generateColonies(self):\n",
      "        for i in range(0,self.nCol):\n",
<<<<<<< Updated upstream
      "            diam = 2*math.sqrt(math.exp(np.random.lognormal(self.SFDmu,self.SFDsig))/math.pi)\n",
      "            prev = np.random.binomial(1,self.prevalence)\n",
      "            x = np.random.random(1)*50   # total landscape is 50m in x\n",
      "            y = np.random.random(1)*10  # total landscape is 10m in y\n",
      "            self.corals.append(Coral(diam,prev,x,y))\n",
=======
      "            self.corals[i] = Coral()\n",
      "    def belt_transect(self):\n",
      "        transect= [[4,15], [8,15], [4,35], [8,35]] \n",
      "        \"\"\"I think there are several modules that will allow us to place 1 rectangle inside another\"\"\"\n",
>>>>>>> Stashed changes
      "        \n",
      "L01 = Landscape(100,.18,.2,0.2,0)\n",
      "L01.generateColonies()\n",
      "\n",
      "L01x = []\n",
      "L01y = []\n",
      "L01area = []\n",
      "L01dis = []\n",
      "for i in range(0,100):\n",
      "    L01x.append(L01.corals[i].x)\n",
      "    L01y.append(L01.corals[i].y)\n",
      "    L01area.append(L01.corals[i].area*10)\n",
      "    L01dis.append(L01.corals[i].dis+1)\n",
      "\n",
      "plt.scatter(L01x,L01y,s=L01area,c = L01dis)\n"
     ],
     "language": "python",
     "metadata": {},
     "outputs": [
      {
       "metadata": {},
       "output_type": "pyout",
<<<<<<< Updated upstream
       "prompt_number": 56,
       "text": [
        "<matplotlib.collections.PathCollection at 0x852ef28>"
       ]
      },
      {
       "metadata": {},
       "output_type": "display_data",
       "png": "iVBORw0KGgoAAAANSUhEUgAAAXMAAAEACAYAAABBDJb9AAAABHNCSVQICAgIfAhkiAAAAAlwSFlz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\nAABJRU5ErkJggg==\n",
       "text": [
        "<matplotlib.figure.Figure at 0x8198a20>"
       ]
      }
     ],
     "prompt_number": 56
=======
       "prompt_number": 9,
       "text": [
        "['SFDa',\n",
        " 'SFDb',\n",
        " '__class__',\n",
        " '__delattr__',\n",
        " '__dict__',\n",
        " '__doc__',\n",
        " '__format__',\n",
        " '__getattribute__',\n",
        " '__hash__',\n",
        " '__init__',\n",
        " '__module__',\n",
        " '__new__',\n",
        " '__reduce__',\n",
        " '__reduce_ex__',\n",
        " '__repr__',\n",
        " '__setattr__',\n",
        " '__sizeof__',\n",
        " '__str__',\n",
        " '__subclasshook__',\n",
        " '__weakref__',\n",
        " 'belt_transect',\n",
        " 'clump',\n",
        " 'corals',\n",
        " 'generateColonies',\n",
        " 'nCol',\n",
        " 'reef']"
       ]
      }
     ],
     "prompt_number": 9
>>>>>>> Stashed changes
    },
    {
     "cell_type": "code",
     "collapsed": false,
     "input": [
      "x = np.random.gamma(0.0774,7493.24,(1000,1))\n",
      "y = exp(x)\n",
      "plt.hist(x, label= \"Ln(Area)\", )\n",
      "plt.hist(x, label=\n",
      "plt.hist(y,label=\"Area\")\n",
      "\n",
<<<<<<< Updated upstream
      "# if log(Area)~Gamma(SFDa,SFDb), then r = math.sqrt(math.pi*math.exp(Gamma(SFDa,SFDb)))"
=======
      "\"\"\"if log(Area)~Gamma(SFDa,SFDb), then r = math.sqrt(math.pi*math.exp(Gamma(SFDa,SFDb)))\"\"\""
>>>>>>> Stashed changes
     ],
     "language": "python",
     "metadata": {},
     "outputs": [
      {
       "ename": "SyntaxError",
<<<<<<< Updated upstream
       "evalue": "invalid syntax (<ipython-input-18-181231d03791>, line 5)",
       "output_type": "pyerr",
       "traceback": [
        "\u001b[1;36m  File \u001b[1;32m\"<ipython-input-18-181231d03791>\"\u001b[1;36m, line \u001b[1;32m5\u001b[0m\n\u001b[1;33m    plt.hist(y,label=\"Area\")\u001b[0m\n\u001b[1;37m                            ^\u001b[0m\n\u001b[1;31mSyntaxError\u001b[0m\u001b[1;31m:\u001b[0m invalid syntax\n"
       ]
      }
     ],
     "prompt_number": 18
=======
       "evalue": "invalid syntax (<ipython-input-14-181231d03791>, line 5)",
       "output_type": "pyerr",
       "traceback": [
        "\u001b[0;36m  File \u001b[0;32m\"<ipython-input-14-181231d03791>\"\u001b[0;36m, line \u001b[0;32m5\u001b[0m\n\u001b[0;31m    plt.hist(y,label=\"Area\")\u001b[0m\n\u001b[0m                            ^\u001b[0m\n\u001b[0;31mSyntaxError\u001b[0m\u001b[0;31m:\u001b[0m invalid syntax\n"
       ]
      }
     ],
     "prompt_number": 14
>>>>>>> Stashed changes
    },
    {
     "cell_type": "code",
     "collapsed": false,
     "input": [
      "\"\"\"Generate 100 random points within in a 50x10m area\"\"\"\n",
      "\n",
      "import random\n",
      "\n",
      "rangeX = (0, 10)\n",
      "rangeY = (0, 50)\n",
      "qty = 100  \n",
      "\n",
      "randPoints = []\n",
<<<<<<< Updated upstream
      "excluded = set() #Sets are lists with no duplicate entries\n",
=======
      "excluded = set() \n",
      "\"\"\"Sets are lists with no duplicate entries.\"\"\"\n",
>>>>>>> Stashed changes
      "i = 0\n",
      "while i<qty:\n",
      "    x = random.randrange(*rangeX)\n",
      "    y = random.randrange(*rangeY)\n",
      "    if (x,y) in excluded: continue\n",
      "    randPoints.append((x,y))\n",
      "    i += 1\n",
      "print randPoints"
     ],
     "language": "python",
     "metadata": {},
     "outputs": [
      {
       "output_type": "stream",
       "stream": "stdout",
       "text": [
<<<<<<< Updated upstream
        "[(2, 33), (0, 28), (2, 0), (7, 49), (4, 34), (7, 1), (3, 19), (2, 10), (5, 45), (5, 8), (8, 39), (8, 26), (5, 26), (3, 31), (0, 40), (3, 8), (1, 23), (6, 24), (6, 22), (9, 3), (0, 19), (8, 33), (1, 5), (9, 1), (9, 41), (3, 31), (9, 8), (0, 35), (3, 46), (3, 0), (8, 6), (4, 32), (3, 28), (7, 5), (5, 24), (1, 49), (3, 8), (9, 16), (4, 37), (8, 8), (1, 6), (7, 7), (9, 45), (4, 3), (1, 13), (1, 38), (0, 34), (6, 14), (6, 27), (5, 47), (8, 45), (1, 48), (2, 45), (6, 7), (4, 39), (3, 44), (8, 27), (7, 41), (8, 18), (5, 34), (1, 28), (1, 12), (4, 42), (3, 3), (5, 21), (2, 22), (4, 40), (7, 8), (8, 23), (0, 14), (9, 9), (5, 3), (2, 42), (9, 23), (4, 5), (4, 40), (0, 23), (2, 22), (9, 3), (7, 31), (0, 9), (0, 2), (1, 21), (6, 4), (5, 6), (4, 43), (8, 9), (2, 23), (8, 34), (3, 14), (5, 38), (1, 43), (5, 34), (0, 21), (2, 4), (7, 37), (8, 14), (3, 22), (6, 49), (9, 49)]\n"
       ]
      }
     ],
     "prompt_number": 20
    },
    {
     "cell_type": "code",
     "collapsed": false,
     "input": [
      "diam = 2*math.sqrt(math.exp(np.random.lognormal(.17,.2))/math.pi)\n",
      "prev = np.random.binomial(1,.2)\n",
      "x = np.random.random(1)*50   # total landscape is 50m in x\n",
      "y= np.random.random(1)*10  # total landscape is 10m in y\n",
      "print diam, prev, x, y\n"
     ],
     "language": "python",
     "metadata": {},
     "outputs": [
      {
       "output_type": "stream",
       "stream": "stdout",
       "text": [
        "2.3858350609 0 [ 23.25791504] [ 6.15345284]\n"
       ]
      }
     ],
     "prompt_number": 33
=======
        "[(7, 10), (2, 27), (9, 39), (3, 23), (3, 40), (3, 6), (1, 2), (3, 24), (9, 11), (5, 22), (6, 4), (7, 42), (1, 3), (7, 34), (7, 25), (8, 24), (9, 32), (7, 34), (1, 17), (3, 31), (7, 8), (5, 2), (9, 34), (3, 11), (5, 18), (2, 29), (9, 47), (4, 28), (3, 32), (6, 36), (8, 49), (0, 49), (2, 41), (5, 48), (6, 47), (0, 35), (7, 23), (1, 16), (7, 37), (2, 26), (9, 7), (8, 40), (2, 2), (1, 19), (4, 30), (4, 46), (9, 45), (6, 34), (4, 12), (9, 10), (7, 4), (3, 13), (4, 38), (9, 28), (0, 41), (4, 12), (3, 47), (1, 12), (5, 26), (6, 10), (7, 6), (3, 1), (7, 37), (2, 32), (8, 9), (4, 41), (9, 20), (9, 43), (2, 9), (1, 29), (3, 33), (8, 1), (6, 17), (2, 49), (8, 31), (2, 45), (5, 42), (6, 0), (2, 14), (0, 35), (3, 9), (7, 7), (2, 18), (7, 41), (7, 31), (9, 19), (4, 34), (7, 19), (2, 26), (3, 25), (0, 19), (5, 26), (4, 3), (3, 48), (6, 5), (5, 30), (7, 17), (9, 30), (6, 4), (1, 38)]\n"
       ]
      }
     ],
     "prompt_number": 10
    },
    {
     "cell_type": "code",
     "collapsed": false,
     "input": [
      "\n",
      "from shapely.geometry.point import Point\n",
      "p = Point(0, 0) # use randomly generated point in space\n",
      "circle = p.buffer(1.0) # use the randomly generated diameter\n",
      "list(circle.exterior.coords)\n",
      "\n",
      "if object coral[i].intersects > 10% size of coral[i]- reject. \n",
      "\n",
      "continue\n",
      "pass\n"
     ],
     "language": "python",
     "metadata": {},
     "outputs": []
    },
    {
     "cell_type": "code",
     "collapsed": false,
     "input": [],
     "language": "python",
     "metadata": {},
     "outputs": []
>>>>>>> Stashed changes
    },
    {
     "cell_type": "code",
     "collapsed": false,
     "input": [],
     "language": "python",
     "metadata": {},
     "outputs": []
    }
   ],
   "metadata": {}
  }
 ]
}