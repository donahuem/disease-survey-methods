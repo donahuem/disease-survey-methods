{
 "metadata": {
  "name": "",
  "signature": "sha256:ec7a64d628845986226b1c0f88e2139c43d4c5e13e14ad43b450ef2e792cc17b"
 },
 "nbformat": 3,
 "nbformat_minor": 0,
 "worksheets": [
  {
   "cells": [
    {
     "cell_type": "raw",
     "metadata": {},
     "source": [
      "Data structure for coral sampling landscapes:\n",
      "\n",
      "Each landscape is an object of Landscape Class that has a set of properties, including\n",
      "    Length (defined as a default size)\n",
      "    Width (defines as a default width)\n",
      "    Number of Colonies\n",
      "    Clumpiness of Distribution\n",
      "    Characteristics of Size Frequency Distribution (e.g., two parameters of a lognormal distrib)\n",
      "and a set of methods, including\n",
      "    GenerateColonies, which generates a list of objects of type Colony\n",
      "    BandTransect, which samples using a standard band transect method and returns # sampled colonies and # infected colonies\n",
      "    EstTransect, which returns area alpha sampled for colonies, #colonies in alpha, area A sampled for disease, #disease colonies in A\n",
      "    \n",
      "Each coral colony is an object of type Coral that has a set of properties, including\n",
      "    Size\n",
      "    Disease State\n",
      "    X location in landscape\n",
      "    Y location in landscape\n",
      "    "
     ]
    },
    {
     "cell_type": "code",
     "collapsed": false,
     "input": [
      "import math as m\n",
      "import numpy as np\n",
      "import scipy as sp\n",
      "import matplotlib as mpl\n",
      "import matplotlib.pyplot as plt"
     ],
     "language": "python",
     "metadata": {},
     "outputs": [],
     "prompt_number": 2
    },
    {
     "cell_type": "code",
     "collapsed": false,
     "input": [
      "class Coral(object):\n",
      "    \"\"\"A class that makes corals with a size, disease state, and location\"\"\"\n",
      "    def __init__(self, diam, dis, lat, lon):\n",
      "        self.diam = diam\n",
      "        self.area = sp.pi*(diam/2.)**2.\n",
      "        self.dis = dis\n",
      "        self.lat = lat\n",
      "        self.lon = lon\n",
      "    \n",
      "    def is_dis(self):\n",
      "        if self.dis==True:\n",
      "            print \"Diseased\"\n",
      "        else:\n",
      "            print \"Healthy\"\n",
      "            \n",
      "c01 = Coral(14,False,3.21,4.445) \"\"\"I removed 1, because __init__() only takes 5 arguments\"\"\""
     ],
     "language": "python",
     "metadata": {},
     "outputs": [],
     "prompt_number": 26
    },
    {
     "cell_type": "code",
     "collapsed": false,
     "input": [
      "class Landscape(object):\n",
      "    \"\"\"Inputs/Arguments: (Number of Colonies, SFD parameter 1, SFD parameter 2, Clumpiness Parameter)\"\"\"\n",
      "    \"\"\"A class that creates landscapes characterized by number of colonies N, size freq distribution, and clumpiness\"\"\"\n",
      "    \"\"\"Assume that the log(coral.area)~Normal(SFDa,SFDb), so that r = math.sqrt(math.pi*math.exp(Lognormal(SFDa,SFDb)))\"\"\"\n",
      "    \"\"\"Assign a fixed length and width= class variables\"\"\"\n",
      "    length = 50\n",
      "    width = 10\n",
      "    def __init__(self,nCol, SFDa, SFDb, clump):\n",
      "        self.nCol = nCol\n",
      "        self.SFDa = SFDa\n",
      "        self.SFDb = SFDb\n",
      "        self.clump = clump\n",
      "        self.corals = []\n",
      "    def generateColonies(self):\n",
      "        print \"Undefined\"\n",
      "        for i in range(0,nCol):\n",
      "            \n",
      "            corals[i] = Coral()\n",
      "        \n",
      "L01 = Landscape(100,4,.3,1)\n",
      "dir(L01)"
     ],
     "language": "python",
     "metadata": {},
     "outputs": [
      {
       "metadata": {},
       "output_type": "pyout",
       "prompt_number": 31,
       "text": [
        "['SFDa',\n",
        " 'SFDb',\n",
        " '__class__',\n",
        " '__delattr__',\n",
        " '__dict__',\n",
        " '__doc__',\n",
        " '__format__',\n",
        " '__getattribute__',\n",
        " '__hash__',\n",
        " '__init__',\n",
        " '__module__',\n",
        " '__new__',\n",
        " '__reduce__',\n",
        " '__reduce_ex__',\n",
        " '__repr__',\n",
        " '__setattr__',\n",
        " '__sizeof__',\n",
        " '__str__',\n",
        " '__subclasshook__',\n",
        " '__weakref__',\n",
        " 'clump',\n",
        " 'corals',\n",
        " 'generateColonies',\n",
        " 'nCol']"
       ]
      }
     ],
     "prompt_number": 31
    },
    {
     "cell_type": "code",
     "collapsed": false,
     "input": [
      "x = np.random.gamma(4,.5,(1000,1))\n",
      "y = exp(x)\n",
      "plt.hist(x, label= \"Ln(Area)\", )\n",
      "plt.hist(x, label=\n",
      "plt.hist(y,label=\"Area\")\n",
      "\n",
      "#if log(Area)~Gamma(SFDa,SFDb), then r = math.sqrt(math.pi*math.exp(Gamma(SFDa,SFDb)))"
     ],
     "language": "python",
     "metadata": {},
     "outputs": [
      {
       "metadata": {},
       "output_type": "pyout",
       "prompt_number": 9,
       "text": [
        "(array([ 990.,    5.,    3.,    0.,    0.,    0.,    1.,    0.,    0.,    1.]),\n",
        " array([  1.26496647e+00,   1.69371552e+02,   3.37478137e+02,\n",
        "         5.05584722e+02,   6.73691308e+02,   8.41797893e+02,\n",
        "         1.00990448e+03,   1.17801106e+03,   1.34611765e+03,\n",
        "         1.51422423e+03,   1.68233082e+03]),\n",
        " <a list of 10 Patch objects>)"
       ]
      },
      {
       "metadata": {},
       "output_type": "display_data",
       "png": "[encoded data removed]",
       "text": [
        "<matplotlib.figure.Figure at 0x7e0f8d0>"
       ]
      }
     ],
     "prompt_number": 9
    }
   ],
   "metadata": {}
  }
 ]
}